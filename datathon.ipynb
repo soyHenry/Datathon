{
 "cells": [
  {
   "cell_type": "markdown",
   "metadata": {},
   "source": []
  },
  {
   "attachments": {},
   "cell_type": "markdown",
   "metadata": {},
   "source": [
    "### Importación de Librerias"
   ]
  },
  {
   "cell_type": "code",
   "execution_count": 74,
   "metadata": {},
   "outputs": [],
   "source": [
    "### Importamos todas las librerías necesarias\n",
    "#Manejo de datasets\n",
    "import numpy as np\n",
    "import pandas as pd\n",
    "#Presentacion gráfica de los datos\n",
    "import matplotlib.pyplot as plt\n",
    "import seaborn as sns\n",
    "sns.set()\n",
    "\n",
    "###Trabajo con Machine Learning\n",
    "#preprocesamiento de los datos\n",
    "from sklearn import preprocessing\n",
    "from sklearn.preprocessing import StandardScaler\n",
    "\n",
    "#Procesamiento de los sets de entrenamiento y test \n",
    "from sklearn.model_selection import train_test_split\n",
    "from sklearn.model_selection import cross_val_score\n",
    "from sklearn.model_selection import cross_validate\n",
    "\n",
    "###Modelos a ser probados\n",
    "# Boosting \n",
    "import xgboost as xgb\n",
    "# Arboles de Desición\n",
    "from sklearn.tree import DecisionTreeClassifier\n",
    "# Vecinos más cercanos\n",
    "from sklearn.neighbors import KNeighborsClassifier \n",
    "from sklearn.svm import SVC \n",
    "# Stacking \n",
    "from sklearn.ensemble import StackingClassifier\n",
    "# Metamodelo\n",
    "from sklearn.linear_model import LogisticRegression \n",
    "\n",
    "#Metricas de los modelos \n",
    "import sklearn.metrics as metrics\n",
    "from sklearn.model_selection import learning_curve\n",
    "from sklearn.metrics import accuracy_score\n",
    "from sklearn.metrics import recall_score\n",
    "\n",
    "\n"
   ]
  },
  {
   "cell_type": "markdown",
   "metadata": {},
   "source": [
    "### Ingesta de los datos"
   ]
  },
  {
   "cell_type": "code",
   "execution_count": 75,
   "metadata": {},
   "outputs": [],
   "source": [
    "df_train = pd.read_csv('hospitalizaciones_train.csv')\n",
    "df_test = pd.read_csv('hospitalizaciones_test.csv')\n"
   ]
  },
  {
   "attachments": {},
   "cell_type": "markdown",
   "metadata": {},
   "source": [
    "Visualización general de los datasets"
   ]
  },
  {
   "cell_type": "code",
   "execution_count": 76,
   "metadata": {},
   "outputs": [
    {
     "name": "stdout",
     "output_type": "stream",
     "text": [
      "Filas y columnas de df_train \n",
      " (410000, 15)\n"
     ]
    },
    {
     "data": {
      "text/html": [
       "<div>\n",
       "<style scoped>\n",
       "    .dataframe tbody tr th:only-of-type {\n",
       "        vertical-align: middle;\n",
       "    }\n",
       "\n",
       "    .dataframe tbody tr th {\n",
       "        vertical-align: top;\n",
       "    }\n",
       "\n",
       "    .dataframe thead th {\n",
       "        text-align: right;\n",
       "    }\n",
       "</style>\n",
       "<table border=\"1\" class=\"dataframe\">\n",
       "  <thead>\n",
       "    <tr style=\"text-align: right;\">\n",
       "      <th></th>\n",
       "      <th>Available Extra Rooms in Hospital</th>\n",
       "      <th>Department</th>\n",
       "      <th>Ward_Facility_Code</th>\n",
       "      <th>doctor_name</th>\n",
       "      <th>staff_available</th>\n",
       "      <th>patientid</th>\n",
       "      <th>Age</th>\n",
       "      <th>gender</th>\n",
       "      <th>Type of Admission</th>\n",
       "      <th>Severity of Illness</th>\n",
       "      <th>health_conditions</th>\n",
       "      <th>Visitors with Patient</th>\n",
       "      <th>Insurance</th>\n",
       "      <th>Admission_Deposit</th>\n",
       "      <th>Stay (in days)</th>\n",
       "    </tr>\n",
       "  </thead>\n",
       "  <tbody>\n",
       "    <tr>\n",
       "      <th>0</th>\n",
       "      <td>4</td>\n",
       "      <td>gynecology</td>\n",
       "      <td>D</td>\n",
       "      <td>Dr Sophia</td>\n",
       "      <td>0</td>\n",
       "      <td>33070</td>\n",
       "      <td>41-50</td>\n",
       "      <td>Female</td>\n",
       "      <td>Trauma</td>\n",
       "      <td>Extreme</td>\n",
       "      <td>Diabetes</td>\n",
       "      <td>4</td>\n",
       "      <td>Yes</td>\n",
       "      <td>2966.408696</td>\n",
       "      <td>8</td>\n",
       "    </tr>\n",
       "    <tr>\n",
       "      <th>1</th>\n",
       "      <td>4</td>\n",
       "      <td>gynecology</td>\n",
       "      <td>B</td>\n",
       "      <td>Dr Sophia</td>\n",
       "      <td>2</td>\n",
       "      <td>34808</td>\n",
       "      <td>31-40</td>\n",
       "      <td>Female</td>\n",
       "      <td>Trauma</td>\n",
       "      <td>Minor</td>\n",
       "      <td>Heart disease</td>\n",
       "      <td>2</td>\n",
       "      <td>No</td>\n",
       "      <td>3554.835677</td>\n",
       "      <td>9</td>\n",
       "    </tr>\n",
       "    <tr>\n",
       "      <th>2</th>\n",
       "      <td>2</td>\n",
       "      <td>gynecology</td>\n",
       "      <td>B</td>\n",
       "      <td>Dr Sophia</td>\n",
       "      <td>8</td>\n",
       "      <td>44577</td>\n",
       "      <td>21-30</td>\n",
       "      <td>Female</td>\n",
       "      <td>Trauma</td>\n",
       "      <td>Extreme</td>\n",
       "      <td>Diabetes</td>\n",
       "      <td>2</td>\n",
       "      <td>Yes</td>\n",
       "      <td>5624.733654</td>\n",
       "      <td>7</td>\n",
       "    </tr>\n",
       "    <tr>\n",
       "      <th>3</th>\n",
       "      <td>4</td>\n",
       "      <td>gynecology</td>\n",
       "      <td>D</td>\n",
       "      <td>Dr Olivia</td>\n",
       "      <td>7</td>\n",
       "      <td>3695</td>\n",
       "      <td>31-40</td>\n",
       "      <td>Female</td>\n",
       "      <td>Urgent</td>\n",
       "      <td>Moderate</td>\n",
       "      <td>None</td>\n",
       "      <td>4</td>\n",
       "      <td>No</td>\n",
       "      <td>4814.149231</td>\n",
       "      <td>8</td>\n",
       "    </tr>\n",
       "    <tr>\n",
       "      <th>4</th>\n",
       "      <td>2</td>\n",
       "      <td>anesthesia</td>\n",
       "      <td>E</td>\n",
       "      <td>Dr Mark</td>\n",
       "      <td>10</td>\n",
       "      <td>108956</td>\n",
       "      <td>71-80</td>\n",
       "      <td>Male</td>\n",
       "      <td>Trauma</td>\n",
       "      <td>Moderate</td>\n",
       "      <td>Diabetes</td>\n",
       "      <td>2</td>\n",
       "      <td>No</td>\n",
       "      <td>5169.269637</td>\n",
       "      <td>34</td>\n",
       "    </tr>\n",
       "  </tbody>\n",
       "</table>\n",
       "</div>"
      ],
      "text/plain": [
       "   Available Extra Rooms in Hospital  Department Ward_Facility_Code  \\\n",
       "0                                  4  gynecology                  D   \n",
       "1                                  4  gynecology                  B   \n",
       "2                                  2  gynecology                  B   \n",
       "3                                  4  gynecology                  D   \n",
       "4                                  2  anesthesia                  E   \n",
       "\n",
       "  doctor_name  staff_available  patientid    Age  gender Type of Admission  \\\n",
       "0   Dr Sophia                0      33070  41-50  Female            Trauma   \n",
       "1   Dr Sophia                2      34808  31-40  Female            Trauma   \n",
       "2   Dr Sophia                8      44577  21-30  Female            Trauma   \n",
       "3   Dr Olivia                7       3695  31-40  Female            Urgent   \n",
       "4     Dr Mark               10     108956  71-80    Male            Trauma   \n",
       "\n",
       "  Severity of Illness health_conditions  Visitors with Patient Insurance  \\\n",
       "0             Extreme          Diabetes                      4       Yes   \n",
       "1               Minor     Heart disease                      2        No   \n",
       "2             Extreme          Diabetes                      2       Yes   \n",
       "3            Moderate              None                      4        No   \n",
       "4            Moderate          Diabetes                      2        No   \n",
       "\n",
       "   Admission_Deposit  Stay (in days)  \n",
       "0        2966.408696               8  \n",
       "1        3554.835677               9  \n",
       "2        5624.733654               7  \n",
       "3        4814.149231               8  \n",
       "4        5169.269637              34  "
      ]
     },
     "execution_count": 76,
     "metadata": {},
     "output_type": "execute_result"
    }
   ],
   "source": [
    "#Dataset de Entrenamiento\n",
    "print('Filas y columnas de df_train \\n', df_train.shape)\n",
    "df_train.head()"
   ]
  },
  {
   "cell_type": "code",
   "execution_count": 77,
   "metadata": {},
   "outputs": [
    {
     "name": "stdout",
     "output_type": "stream",
     "text": [
      "Filas y columnas de df_test \n",
      " (90000, 14)\n"
     ]
    },
    {
     "data": {
      "text/html": [
       "<div>\n",
       "<style scoped>\n",
       "    .dataframe tbody tr th:only-of-type {\n",
       "        vertical-align: middle;\n",
       "    }\n",
       "\n",
       "    .dataframe tbody tr th {\n",
       "        vertical-align: top;\n",
       "    }\n",
       "\n",
       "    .dataframe thead th {\n",
       "        text-align: right;\n",
       "    }\n",
       "</style>\n",
       "<table border=\"1\" class=\"dataframe\">\n",
       "  <thead>\n",
       "    <tr style=\"text-align: right;\">\n",
       "      <th></th>\n",
       "      <th>Available Extra Rooms in Hospital</th>\n",
       "      <th>Department</th>\n",
       "      <th>Ward_Facility_Code</th>\n",
       "      <th>doctor_name</th>\n",
       "      <th>staff_available</th>\n",
       "      <th>patientid</th>\n",
       "      <th>Age</th>\n",
       "      <th>gender</th>\n",
       "      <th>Type of Admission</th>\n",
       "      <th>Severity of Illness</th>\n",
       "      <th>health_conditions</th>\n",
       "      <th>Visitors with Patient</th>\n",
       "      <th>Insurance</th>\n",
       "      <th>Admission_Deposit</th>\n",
       "    </tr>\n",
       "  </thead>\n",
       "  <tbody>\n",
       "    <tr>\n",
       "      <th>0</th>\n",
       "      <td>3</td>\n",
       "      <td>gynecology</td>\n",
       "      <td>F</td>\n",
       "      <td>Dr Olivia</td>\n",
       "      <td>10</td>\n",
       "      <td>2858</td>\n",
       "      <td>21-30</td>\n",
       "      <td>Female</td>\n",
       "      <td>Trauma</td>\n",
       "      <td>Moderate</td>\n",
       "      <td>Other</td>\n",
       "      <td>2</td>\n",
       "      <td>No</td>\n",
       "      <td>4749.640225</td>\n",
       "    </tr>\n",
       "    <tr>\n",
       "      <th>1</th>\n",
       "      <td>2</td>\n",
       "      <td>TB &amp; Chest disease</td>\n",
       "      <td>E</td>\n",
       "      <td>Dr John</td>\n",
       "      <td>4</td>\n",
       "      <td>65657</td>\n",
       "      <td>51-60</td>\n",
       "      <td>Female</td>\n",
       "      <td>Trauma</td>\n",
       "      <td>Moderate</td>\n",
       "      <td>Asthama</td>\n",
       "      <td>2</td>\n",
       "      <td>Yes</td>\n",
       "      <td>4122.261324</td>\n",
       "    </tr>\n",
       "    <tr>\n",
       "      <th>2</th>\n",
       "      <td>2</td>\n",
       "      <td>radiotherapy</td>\n",
       "      <td>E</td>\n",
       "      <td>Dr John</td>\n",
       "      <td>7</td>\n",
       "      <td>45598</td>\n",
       "      <td>51-60</td>\n",
       "      <td>Other</td>\n",
       "      <td>Trauma</td>\n",
       "      <td>Moderate</td>\n",
       "      <td>None</td>\n",
       "      <td>3</td>\n",
       "      <td>No</td>\n",
       "      <td>5459.067882</td>\n",
       "    </tr>\n",
       "    <tr>\n",
       "      <th>3</th>\n",
       "      <td>2</td>\n",
       "      <td>gynecology</td>\n",
       "      <td>F</td>\n",
       "      <td>Dr Olivia</td>\n",
       "      <td>1</td>\n",
       "      <td>31132</td>\n",
       "      <td>21-30</td>\n",
       "      <td>Female</td>\n",
       "      <td>Trauma</td>\n",
       "      <td>Moderate</td>\n",
       "      <td>None</td>\n",
       "      <td>2</td>\n",
       "      <td>Yes</td>\n",
       "      <td>3987.033318</td>\n",
       "    </tr>\n",
       "    <tr>\n",
       "      <th>4</th>\n",
       "      <td>2</td>\n",
       "      <td>anesthesia</td>\n",
       "      <td>A</td>\n",
       "      <td>Dr John</td>\n",
       "      <td>7</td>\n",
       "      <td>125021</td>\n",
       "      <td>51-60</td>\n",
       "      <td>Female</td>\n",
       "      <td>Trauma</td>\n",
       "      <td>Extreme</td>\n",
       "      <td>Diabetes</td>\n",
       "      <td>2</td>\n",
       "      <td>No</td>\n",
       "      <td>4770.789695</td>\n",
       "    </tr>\n",
       "  </tbody>\n",
       "</table>\n",
       "</div>"
      ],
      "text/plain": [
       "   Available Extra Rooms in Hospital          Department Ward_Facility_Code  \\\n",
       "0                                  3          gynecology                  F   \n",
       "1                                  2  TB & Chest disease                  E   \n",
       "2                                  2        radiotherapy                  E   \n",
       "3                                  2          gynecology                  F   \n",
       "4                                  2          anesthesia                  A   \n",
       "\n",
       "  doctor_name  staff_available  patientid    Age  gender Type of Admission  \\\n",
       "0   Dr Olivia               10       2858  21-30  Female            Trauma   \n",
       "1     Dr John                4      65657  51-60  Female            Trauma   \n",
       "2     Dr John                7      45598  51-60   Other            Trauma   \n",
       "3   Dr Olivia                1      31132  21-30  Female            Trauma   \n",
       "4     Dr John                7     125021  51-60  Female            Trauma   \n",
       "\n",
       "  Severity of Illness health_conditions  Visitors with Patient Insurance  \\\n",
       "0            Moderate             Other                      2        No   \n",
       "1            Moderate           Asthama                      2       Yes   \n",
       "2            Moderate              None                      3        No   \n",
       "3            Moderate              None                      2       Yes   \n",
       "4             Extreme          Diabetes                      2        No   \n",
       "\n",
       "   Admission_Deposit  \n",
       "0        4749.640225  \n",
       "1        4122.261324  \n",
       "2        5459.067882  \n",
       "3        3987.033318  \n",
       "4        4770.789695  "
      ]
     },
     "execution_count": 77,
     "metadata": {},
     "output_type": "execute_result"
    }
   ],
   "source": [
    "#Dataset de prueba\n",
    "print('Filas y columnas de df_test \\n', df_test.shape)\n",
    "df_test.head()"
   ]
  },
  {
   "attachments": {},
   "cell_type": "markdown",
   "metadata": {},
   "source": [
    "Visualizamos de forma general la condición de los datos"
   ]
  },
  {
   "cell_type": "code",
   "execution_count": 78,
   "metadata": {},
   "outputs": [
    {
     "name": "stdout",
     "output_type": "stream",
     "text": [
      "Dataset de Entrenamiento\n",
      "Available Extra Rooms in Hospital    0.0\n",
      "Department                           0.0\n",
      "Ward_Facility_Code                   0.0\n",
      "doctor_name                          0.0\n",
      "staff_available                      0.0\n",
      "patientid                            0.0\n",
      "Age                                  0.0\n",
      "gender                               0.0\n",
      "Type of Admission                    0.0\n",
      "Severity of Illness                  0.0\n",
      "health_conditions                    0.0\n",
      "Visitors with Patient                0.0\n",
      "Insurance                            0.0\n",
      "Admission_Deposit                    0.0\n",
      "Stay (in days)                       0.0\n",
      "dtype: float64\n",
      "Dataset de Prueba\n",
      "Available Extra Rooms in Hospital    0.0\n",
      "Department                           0.0\n",
      "Ward_Facility_Code                   0.0\n",
      "doctor_name                          0.0\n",
      "staff_available                      0.0\n",
      "patientid                            0.0\n",
      "Age                                  0.0\n",
      "gender                               0.0\n",
      "Type of Admission                    0.0\n",
      "Severity of Illness                  0.0\n",
      "health_conditions                    0.0\n",
      "Visitors with Patient                0.0\n",
      "Insurance                            0.0\n",
      "Admission_Deposit                    0.0\n",
      "dtype: float64\n"
     ]
    }
   ],
   "source": [
    "#se realiza una copia de los datasets como punto de control\n",
    "train=df_train.copy()\n",
    "test=df_test.copy()\n",
    "print('Dataset de Entrenamiento')\n",
    "print(train.isnull().sum()/len(train)*100)\n",
    "print('Dataset de Prueba')\n",
    "print(test.isnull().sum()/len(test)*100)"
   ]
  },
  {
   "cell_type": "code",
   "execution_count": 79,
   "metadata": {},
   "outputs": [
    {
     "data": {
      "text/plain": [
       "Available Extra Rooms in Hospital      int64\n",
       "Department                            object\n",
       "Ward_Facility_Code                    object\n",
       "doctor_name                           object\n",
       "staff_available                        int64\n",
       "patientid                              int64\n",
       "Age                                   object\n",
       "gender                                object\n",
       "Type of Admission                     object\n",
       "Severity of Illness                   object\n",
       "health_conditions                     object\n",
       "Visitors with Patient                  int64\n",
       "Insurance                             object\n",
       "Admission_Deposit                    float64\n",
       "Stay (in days)                         int64\n",
       "dtype: object"
      ]
     },
     "execution_count": 79,
     "metadata": {},
     "output_type": "execute_result"
    }
   ],
   "source": [
    "train.dtypes"
   ]
  },
  {
   "cell_type": "code",
   "execution_count": 80,
   "metadata": {},
   "outputs": [
    {
     "data": {
      "text/plain": [
       "['Department',\n",
       " 'Ward_Facility_Code',\n",
       " 'doctor_name',\n",
       " 'Age',\n",
       " 'gender',\n",
       " 'Type of Admission',\n",
       " 'Severity of Illness',\n",
       " 'health_conditions',\n",
       " 'Insurance']"
      ]
     },
     "execution_count": 80,
     "metadata": {},
     "output_type": "execute_result"
    }
   ],
   "source": [
    "#Extracción de columnas categóricas\n",
    "cat_col = train.select_dtypes(include=['object']).columns.to_list()\n",
    "cat_col"
   ]
  },
  {
   "attachments": {},
   "cell_type": "markdown",
   "metadata": {},
   "source": [
    "Buscamos datos duplicados"
   ]
  },
  {
   "cell_type": "code",
   "execution_count": 81,
   "metadata": {},
   "outputs": [
    {
     "name": "stdout",
     "output_type": "stream",
     "text": [
      "El total de elementos duplicados en el dataset de entrenamiento son 0\n",
      "El total de elementos duplicados en el dataset de pruena son 0\n"
     ]
    }
   ],
   "source": [
    "print('El total de elementos duplicados en el dataset de entrenamiento son', train.duplicated().sum())\n",
    "print('El total de elementos duplicados en el dataset de pruena son', test.duplicated().sum())"
   ]
  },
  {
   "attachments": {},
   "cell_type": "markdown",
   "metadata": {},
   "source": [
    "Detallamos la variable de interés en nuestro dataset de entrenamiento"
   ]
  },
  {
   "cell_type": "code",
   "execution_count": 82,
   "metadata": {},
   "outputs": [
    {
     "data": {
      "text/plain": [
       "count    410000.000000\n",
       "mean         12.378193\n",
       "std           7.905618\n",
       "min           3.000000\n",
       "25%           8.000000\n",
       "50%           9.000000\n",
       "75%          11.000000\n",
       "max          51.000000\n",
       "Name: Stay (in days), dtype: float64"
      ]
     },
     "execution_count": 82,
     "metadata": {},
     "output_type": "execute_result"
    }
   ],
   "source": [
    "train['Stay (in days)'].describe()"
   ]
  },
  {
   "cell_type": "code",
   "execution_count": 83,
   "metadata": {},
   "outputs": [
    {
     "data": {
      "image/png": "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",
      "text/plain": [
       "<Figure size 640x480 with 1 Axes>"
      ]
     },
     "metadata": {},
     "output_type": "display_data"
    }
   ],
   "source": [
    "sns.histplot(train['Stay (in days)']);"
   ]
  },
  {
   "attachments": {},
   "cell_type": "markdown",
   "metadata": {},
   "source": [
    "Al observar que no hay anomalias aparentes en el dataset, agregamos la variable categorica 'tipo_estancia'. Tomando en cuenta, que se define que un paciente posee estancia hospitalaria prolongada si ha estado hospitalizado más de 8 días."
   ]
  },
  {
   "cell_type": "code",
   "execution_count": 84,
   "metadata": {},
   "outputs": [
    {
     "data": {
      "text/html": [
       "<div>\n",
       "<style scoped>\n",
       "    .dataframe tbody tr th:only-of-type {\n",
       "        vertical-align: middle;\n",
       "    }\n",
       "\n",
       "    .dataframe tbody tr th {\n",
       "        vertical-align: top;\n",
       "    }\n",
       "\n",
       "    .dataframe thead th {\n",
       "        text-align: right;\n",
       "    }\n",
       "</style>\n",
       "<table border=\"1\" class=\"dataframe\">\n",
       "  <thead>\n",
       "    <tr style=\"text-align: right;\">\n",
       "      <th></th>\n",
       "      <th>Available Extra Rooms in Hospital</th>\n",
       "      <th>Department</th>\n",
       "      <th>Ward_Facility_Code</th>\n",
       "      <th>doctor_name</th>\n",
       "      <th>staff_available</th>\n",
       "      <th>patientid</th>\n",
       "      <th>Age</th>\n",
       "      <th>gender</th>\n",
       "      <th>Type of Admission</th>\n",
       "      <th>Severity of Illness</th>\n",
       "      <th>health_conditions</th>\n",
       "      <th>Visitors with Patient</th>\n",
       "      <th>Insurance</th>\n",
       "      <th>Admission_Deposit</th>\n",
       "      <th>stay_type</th>\n",
       "    </tr>\n",
       "  </thead>\n",
       "  <tbody>\n",
       "    <tr>\n",
       "      <th>0</th>\n",
       "      <td>4</td>\n",
       "      <td>gynecology</td>\n",
       "      <td>D</td>\n",
       "      <td>Dr Sophia</td>\n",
       "      <td>0</td>\n",
       "      <td>33070</td>\n",
       "      <td>41-50</td>\n",
       "      <td>Female</td>\n",
       "      <td>Trauma</td>\n",
       "      <td>Extreme</td>\n",
       "      <td>Diabetes</td>\n",
       "      <td>4</td>\n",
       "      <td>Yes</td>\n",
       "      <td>2966.408696</td>\n",
       "      <td>0</td>\n",
       "    </tr>\n",
       "    <tr>\n",
       "      <th>1</th>\n",
       "      <td>4</td>\n",
       "      <td>gynecology</td>\n",
       "      <td>B</td>\n",
       "      <td>Dr Sophia</td>\n",
       "      <td>2</td>\n",
       "      <td>34808</td>\n",
       "      <td>31-40</td>\n",
       "      <td>Female</td>\n",
       "      <td>Trauma</td>\n",
       "      <td>Minor</td>\n",
       "      <td>Heart disease</td>\n",
       "      <td>2</td>\n",
       "      <td>No</td>\n",
       "      <td>3554.835677</td>\n",
       "      <td>1</td>\n",
       "    </tr>\n",
       "    <tr>\n",
       "      <th>2</th>\n",
       "      <td>2</td>\n",
       "      <td>gynecology</td>\n",
       "      <td>B</td>\n",
       "      <td>Dr Sophia</td>\n",
       "      <td>8</td>\n",
       "      <td>44577</td>\n",
       "      <td>21-30</td>\n",
       "      <td>Female</td>\n",
       "      <td>Trauma</td>\n",
       "      <td>Extreme</td>\n",
       "      <td>Diabetes</td>\n",
       "      <td>2</td>\n",
       "      <td>Yes</td>\n",
       "      <td>5624.733654</td>\n",
       "      <td>0</td>\n",
       "    </tr>\n",
       "    <tr>\n",
       "      <th>3</th>\n",
       "      <td>4</td>\n",
       "      <td>gynecology</td>\n",
       "      <td>D</td>\n",
       "      <td>Dr Olivia</td>\n",
       "      <td>7</td>\n",
       "      <td>3695</td>\n",
       "      <td>31-40</td>\n",
       "      <td>Female</td>\n",
       "      <td>Urgent</td>\n",
       "      <td>Moderate</td>\n",
       "      <td>None</td>\n",
       "      <td>4</td>\n",
       "      <td>No</td>\n",
       "      <td>4814.149231</td>\n",
       "      <td>0</td>\n",
       "    </tr>\n",
       "    <tr>\n",
       "      <th>4</th>\n",
       "      <td>2</td>\n",
       "      <td>anesthesia</td>\n",
       "      <td>E</td>\n",
       "      <td>Dr Mark</td>\n",
       "      <td>10</td>\n",
       "      <td>108956</td>\n",
       "      <td>71-80</td>\n",
       "      <td>Male</td>\n",
       "      <td>Trauma</td>\n",
       "      <td>Moderate</td>\n",
       "      <td>Diabetes</td>\n",
       "      <td>2</td>\n",
       "      <td>No</td>\n",
       "      <td>5169.269637</td>\n",
       "      <td>1</td>\n",
       "    </tr>\n",
       "  </tbody>\n",
       "</table>\n",
       "</div>"
      ],
      "text/plain": [
       "   Available Extra Rooms in Hospital  Department Ward_Facility_Code  \\\n",
       "0                                  4  gynecology                  D   \n",
       "1                                  4  gynecology                  B   \n",
       "2                                  2  gynecology                  B   \n",
       "3                                  4  gynecology                  D   \n",
       "4                                  2  anesthesia                  E   \n",
       "\n",
       "  doctor_name  staff_available  patientid    Age  gender Type of Admission  \\\n",
       "0   Dr Sophia                0      33070  41-50  Female            Trauma   \n",
       "1   Dr Sophia                2      34808  31-40  Female            Trauma   \n",
       "2   Dr Sophia                8      44577  21-30  Female            Trauma   \n",
       "3   Dr Olivia                7       3695  31-40  Female            Urgent   \n",
       "4     Dr Mark               10     108956  71-80    Male            Trauma   \n",
       "\n",
       "  Severity of Illness health_conditions  Visitors with Patient Insurance  \\\n",
       "0             Extreme          Diabetes                      4       Yes   \n",
       "1               Minor     Heart disease                      2        No   \n",
       "2             Extreme          Diabetes                      2       Yes   \n",
       "3            Moderate              None                      4        No   \n",
       "4            Moderate          Diabetes                      2        No   \n",
       "\n",
       "   Admission_Deposit  stay_type  \n",
       "0        2966.408696          0  \n",
       "1        3554.835677          1  \n",
       "2        5624.733654          0  \n",
       "3        4814.149231          0  \n",
       "4        5169.269637          1  "
      ]
     },
     "execution_count": 84,
     "metadata": {},
     "output_type": "execute_result"
    }
   ],
   "source": [
    "train['stay_type'] = df_train['Stay (in days)'].apply(lambda x: 1 if x > 8 else 0)\n",
    "train=train.drop(['Stay (in days)'], axis=1)\n",
    "train.head(5)"
   ]
  },
  {
   "cell_type": "code",
   "execution_count": 85,
   "metadata": {},
   "outputs": [
    {
     "data": {
      "image/png": "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",
      "text/plain": [
       "<Figure size 640x480 with 1 Axes>"
      ]
     },
     "metadata": {},
     "output_type": "display_data"
    }
   ],
   "source": [
    "sns.countplot(x = 'stay_type', data = train)\n",
    "plt.show()"
   ]
  },
  {
   "attachments": {},
   "cell_type": "markdown",
   "metadata": {},
   "source": [
    "Tranformamos las variables numéricas a categóricas"
   ]
  },
  {
   "cell_type": "code",
   "execution_count": 86,
   "metadata": {},
   "outputs": [
    {
     "data": {
      "text/html": [
       "<div>\n",
       "<style scoped>\n",
       "    .dataframe tbody tr th:only-of-type {\n",
       "        vertical-align: middle;\n",
       "    }\n",
       "\n",
       "    .dataframe tbody tr th {\n",
       "        vertical-align: top;\n",
       "    }\n",
       "\n",
       "    .dataframe thead th {\n",
       "        text-align: right;\n",
       "    }\n",
       "</style>\n",
       "<table border=\"1\" class=\"dataframe\">\n",
       "  <thead>\n",
       "    <tr style=\"text-align: right;\">\n",
       "      <th></th>\n",
       "      <th>Available Extra Rooms in Hospital</th>\n",
       "      <th>Department</th>\n",
       "      <th>Ward_Facility_Code</th>\n",
       "      <th>doctor_name</th>\n",
       "      <th>staff_available</th>\n",
       "      <th>patientid</th>\n",
       "      <th>Age</th>\n",
       "      <th>gender</th>\n",
       "      <th>Type of Admission</th>\n",
       "      <th>Severity of Illness</th>\n",
       "      <th>health_conditions</th>\n",
       "      <th>Visitors with Patient</th>\n",
       "      <th>Insurance</th>\n",
       "      <th>Admission_Deposit</th>\n",
       "      <th>stay_type</th>\n",
       "    </tr>\n",
       "  </thead>\n",
       "  <tbody>\n",
       "    <tr>\n",
       "      <th>0</th>\n",
       "      <td>4</td>\n",
       "      <td>2</td>\n",
       "      <td>3</td>\n",
       "      <td>8</td>\n",
       "      <td>0</td>\n",
       "      <td>33070</td>\n",
       "      <td>4</td>\n",
       "      <td>0</td>\n",
       "      <td>1</td>\n",
       "      <td>0</td>\n",
       "      <td>1</td>\n",
       "      <td>4</td>\n",
       "      <td>1</td>\n",
       "      <td>2966.408696</td>\n",
       "      <td>0</td>\n",
       "    </tr>\n",
       "    <tr>\n",
       "      <th>1</th>\n",
       "      <td>4</td>\n",
       "      <td>2</td>\n",
       "      <td>1</td>\n",
       "      <td>8</td>\n",
       "      <td>2</td>\n",
       "      <td>34808</td>\n",
       "      <td>3</td>\n",
       "      <td>0</td>\n",
       "      <td>1</td>\n",
       "      <td>1</td>\n",
       "      <td>2</td>\n",
       "      <td>2</td>\n",
       "      <td>0</td>\n",
       "      <td>3554.835677</td>\n",
       "      <td>1</td>\n",
       "    </tr>\n",
       "    <tr>\n",
       "      <th>2</th>\n",
       "      <td>2</td>\n",
       "      <td>2</td>\n",
       "      <td>1</td>\n",
       "      <td>8</td>\n",
       "      <td>8</td>\n",
       "      <td>44577</td>\n",
       "      <td>2</td>\n",
       "      <td>0</td>\n",
       "      <td>1</td>\n",
       "      <td>0</td>\n",
       "      <td>1</td>\n",
       "      <td>2</td>\n",
       "      <td>1</td>\n",
       "      <td>5624.733654</td>\n",
       "      <td>0</td>\n",
       "    </tr>\n",
       "    <tr>\n",
       "      <th>3</th>\n",
       "      <td>4</td>\n",
       "      <td>2</td>\n",
       "      <td>3</td>\n",
       "      <td>4</td>\n",
       "      <td>7</td>\n",
       "      <td>3695</td>\n",
       "      <td>3</td>\n",
       "      <td>0</td>\n",
       "      <td>2</td>\n",
       "      <td>2</td>\n",
       "      <td>4</td>\n",
       "      <td>4</td>\n",
       "      <td>0</td>\n",
       "      <td>4814.149231</td>\n",
       "      <td>0</td>\n",
       "    </tr>\n",
       "    <tr>\n",
       "      <th>4</th>\n",
       "      <td>2</td>\n",
       "      <td>1</td>\n",
       "      <td>4</td>\n",
       "      <td>2</td>\n",
       "      <td>10</td>\n",
       "      <td>108956</td>\n",
       "      <td>7</td>\n",
       "      <td>1</td>\n",
       "      <td>1</td>\n",
       "      <td>2</td>\n",
       "      <td>1</td>\n",
       "      <td>2</td>\n",
       "      <td>0</td>\n",
       "      <td>5169.269637</td>\n",
       "      <td>1</td>\n",
       "    </tr>\n",
       "  </tbody>\n",
       "</table>\n",
       "</div>"
      ],
      "text/plain": [
       "   Available Extra Rooms in Hospital  Department  Ward_Facility_Code  \\\n",
       "0                                  4           2                   3   \n",
       "1                                  4           2                   1   \n",
       "2                                  2           2                   1   \n",
       "3                                  4           2                   3   \n",
       "4                                  2           1                   4   \n",
       "\n",
       "   doctor_name  staff_available  patientid  Age  gender  Type of Admission  \\\n",
       "0            8                0      33070    4       0                  1   \n",
       "1            8                2      34808    3       0                  1   \n",
       "2            8                8      44577    2       0                  1   \n",
       "3            4                7       3695    3       0                  2   \n",
       "4            2               10     108956    7       1                  1   \n",
       "\n",
       "   Severity of Illness  health_conditions  Visitors with Patient  Insurance  \\\n",
       "0                    0                  1                      4          1   \n",
       "1                    1                  2                      2          0   \n",
       "2                    0                  1                      2          1   \n",
       "3                    2                  4                      4          0   \n",
       "4                    2                  1                      2          0   \n",
       "\n",
       "   Admission_Deposit  stay_type  \n",
       "0        2966.408696          0  \n",
       "1        3554.835677          1  \n",
       "2        5624.733654          0  \n",
       "3        4814.149231          0  \n",
       "4        5169.269637          1  "
      ]
     },
     "execution_count": 86,
     "metadata": {},
     "output_type": "execute_result"
    }
   ],
   "source": [
    "#Dataset de entrenamiento\n",
    "le = preprocessing.LabelEncoder()\n",
    "for cat in cat_col:\n",
    "    train[cat]=le.fit_transform(train[cat])\n",
    "\n",
    "train.head()"
   ]
  },
  {
   "cell_type": "code",
   "execution_count": 87,
   "metadata": {},
   "outputs": [
    {
     "data": {
      "text/html": [
       "<div>\n",
       "<style scoped>\n",
       "    .dataframe tbody tr th:only-of-type {\n",
       "        vertical-align: middle;\n",
       "    }\n",
       "\n",
       "    .dataframe tbody tr th {\n",
       "        vertical-align: top;\n",
       "    }\n",
       "\n",
       "    .dataframe thead th {\n",
       "        text-align: right;\n",
       "    }\n",
       "</style>\n",
       "<table border=\"1\" class=\"dataframe\">\n",
       "  <thead>\n",
       "    <tr style=\"text-align: right;\">\n",
       "      <th></th>\n",
       "      <th>Available Extra Rooms in Hospital</th>\n",
       "      <th>Department</th>\n",
       "      <th>Ward_Facility_Code</th>\n",
       "      <th>doctor_name</th>\n",
       "      <th>staff_available</th>\n",
       "      <th>patientid</th>\n",
       "      <th>Age</th>\n",
       "      <th>gender</th>\n",
       "      <th>Type of Admission</th>\n",
       "      <th>Severity of Illness</th>\n",
       "      <th>health_conditions</th>\n",
       "      <th>Visitors with Patient</th>\n",
       "      <th>Insurance</th>\n",
       "      <th>Admission_Deposit</th>\n",
       "    </tr>\n",
       "  </thead>\n",
       "  <tbody>\n",
       "    <tr>\n",
       "      <th>0</th>\n",
       "      <td>3</td>\n",
       "      <td>2</td>\n",
       "      <td>5</td>\n",
       "      <td>4</td>\n",
       "      <td>10</td>\n",
       "      <td>2858</td>\n",
       "      <td>2</td>\n",
       "      <td>0</td>\n",
       "      <td>1</td>\n",
       "      <td>2</td>\n",
       "      <td>5</td>\n",
       "      <td>2</td>\n",
       "      <td>0</td>\n",
       "      <td>4749.640225</td>\n",
       "    </tr>\n",
       "    <tr>\n",
       "      <th>1</th>\n",
       "      <td>2</td>\n",
       "      <td>0</td>\n",
       "      <td>4</td>\n",
       "      <td>1</td>\n",
       "      <td>4</td>\n",
       "      <td>65657</td>\n",
       "      <td>5</td>\n",
       "      <td>0</td>\n",
       "      <td>1</td>\n",
       "      <td>2</td>\n",
       "      <td>0</td>\n",
       "      <td>2</td>\n",
       "      <td>1</td>\n",
       "      <td>4122.261324</td>\n",
       "    </tr>\n",
       "    <tr>\n",
       "      <th>2</th>\n",
       "      <td>2</td>\n",
       "      <td>3</td>\n",
       "      <td>4</td>\n",
       "      <td>1</td>\n",
       "      <td>7</td>\n",
       "      <td>45598</td>\n",
       "      <td>5</td>\n",
       "      <td>2</td>\n",
       "      <td>1</td>\n",
       "      <td>2</td>\n",
       "      <td>4</td>\n",
       "      <td>3</td>\n",
       "      <td>0</td>\n",
       "      <td>5459.067882</td>\n",
       "    </tr>\n",
       "    <tr>\n",
       "      <th>3</th>\n",
       "      <td>2</td>\n",
       "      <td>2</td>\n",
       "      <td>5</td>\n",
       "      <td>4</td>\n",
       "      <td>1</td>\n",
       "      <td>31132</td>\n",
       "      <td>2</td>\n",
       "      <td>0</td>\n",
       "      <td>1</td>\n",
       "      <td>2</td>\n",
       "      <td>4</td>\n",
       "      <td>2</td>\n",
       "      <td>1</td>\n",
       "      <td>3987.033318</td>\n",
       "    </tr>\n",
       "    <tr>\n",
       "      <th>4</th>\n",
       "      <td>2</td>\n",
       "      <td>1</td>\n",
       "      <td>0</td>\n",
       "      <td>1</td>\n",
       "      <td>7</td>\n",
       "      <td>125021</td>\n",
       "      <td>5</td>\n",
       "      <td>0</td>\n",
       "      <td>1</td>\n",
       "      <td>0</td>\n",
       "      <td>1</td>\n",
       "      <td>2</td>\n",
       "      <td>0</td>\n",
       "      <td>4770.789695</td>\n",
       "    </tr>\n",
       "  </tbody>\n",
       "</table>\n",
       "</div>"
      ],
      "text/plain": [
       "   Available Extra Rooms in Hospital  Department  Ward_Facility_Code  \\\n",
       "0                                  3           2                   5   \n",
       "1                                  2           0                   4   \n",
       "2                                  2           3                   4   \n",
       "3                                  2           2                   5   \n",
       "4                                  2           1                   0   \n",
       "\n",
       "   doctor_name  staff_available  patientid  Age  gender  Type of Admission  \\\n",
       "0            4               10       2858    2       0                  1   \n",
       "1            1                4      65657    5       0                  1   \n",
       "2            1                7      45598    5       2                  1   \n",
       "3            4                1      31132    2       0                  1   \n",
       "4            1                7     125021    5       0                  1   \n",
       "\n",
       "   Severity of Illness  health_conditions  Visitors with Patient  Insurance  \\\n",
       "0                    2                  5                      2          0   \n",
       "1                    2                  0                      2          1   \n",
       "2                    2                  4                      3          0   \n",
       "3                    2                  4                      2          1   \n",
       "4                    0                  1                      2          0   \n",
       "\n",
       "   Admission_Deposit  \n",
       "0        4749.640225  \n",
       "1        4122.261324  \n",
       "2        5459.067882  \n",
       "3        3987.033318  \n",
       "4        4770.789695  "
      ]
     },
     "execution_count": 87,
     "metadata": {},
     "output_type": "execute_result"
    }
   ],
   "source": [
    "#Dataset de prueba\n",
    "le = preprocessing.LabelEncoder()\n",
    "for cat in cat_col:\n",
    "    test[cat]=le.fit_transform(test[cat])\n",
    "\n",
    "test.head()"
   ]
  },
  {
   "cell_type": "code",
   "execution_count": 88,
   "metadata": {},
   "outputs": [
    {
     "data": {
      "text/plain": [
       "<AxesSubplot: >"
      ]
     },
     "execution_count": 88,
     "metadata": {},
     "output_type": "execute_result"
    },
    {
     "data": {
      "image/png": "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",
      "text/plain": [
       "<Figure size 1300x800 with 2 Axes>"
      ]
     },
     "metadata": {},
     "output_type": "display_data"
    }
   ],
   "source": [
    "#Graficamos las correlaciones con un mapa de calor\n",
    "corr = train.corr(method='pearson')\n",
    "plt.figure(figsize=(13,8))\n",
    "sns.heatmap(corr, cbar = True,  square = False, annot=True, fmt= '.2f',cmap= 'coolwarm') "
   ]
  },
  {
   "cell_type": "code",
   "execution_count": 89,
   "metadata": {},
   "outputs": [
    {
     "data": {
      "text/html": [
       "<div>\n",
       "<style scoped>\n",
       "    .dataframe tbody tr th:only-of-type {\n",
       "        vertical-align: middle;\n",
       "    }\n",
       "\n",
       "    .dataframe tbody tr th {\n",
       "        vertical-align: top;\n",
       "    }\n",
       "\n",
       "    .dataframe thead th {\n",
       "        text-align: right;\n",
       "    }\n",
       "</style>\n",
       "<table border=\"1\" class=\"dataframe\">\n",
       "  <thead>\n",
       "    <tr style=\"text-align: right;\">\n",
       "      <th></th>\n",
       "      <th>Available Extra Rooms in Hospital</th>\n",
       "      <th>Department</th>\n",
       "      <th>Ward_Facility_Code</th>\n",
       "      <th>doctor_name</th>\n",
       "      <th>Age</th>\n",
       "      <th>gender</th>\n",
       "      <th>Severity of Illness</th>\n",
       "      <th>Admission_Deposit</th>\n",
       "      <th>stay_type</th>\n",
       "    </tr>\n",
       "  </thead>\n",
       "  <tbody>\n",
       "    <tr>\n",
       "      <th>0</th>\n",
       "      <td>4</td>\n",
       "      <td>2</td>\n",
       "      <td>3</td>\n",
       "      <td>8</td>\n",
       "      <td>4</td>\n",
       "      <td>0</td>\n",
       "      <td>0</td>\n",
       "      <td>2966.408696</td>\n",
       "      <td>0</td>\n",
       "    </tr>\n",
       "    <tr>\n",
       "      <th>1</th>\n",
       "      <td>4</td>\n",
       "      <td>2</td>\n",
       "      <td>1</td>\n",
       "      <td>8</td>\n",
       "      <td>3</td>\n",
       "      <td>0</td>\n",
       "      <td>1</td>\n",
       "      <td>3554.835677</td>\n",
       "      <td>1</td>\n",
       "    </tr>\n",
       "    <tr>\n",
       "      <th>2</th>\n",
       "      <td>2</td>\n",
       "      <td>2</td>\n",
       "      <td>1</td>\n",
       "      <td>8</td>\n",
       "      <td>2</td>\n",
       "      <td>0</td>\n",
       "      <td>0</td>\n",
       "      <td>5624.733654</td>\n",
       "      <td>0</td>\n",
       "    </tr>\n",
       "    <tr>\n",
       "      <th>3</th>\n",
       "      <td>4</td>\n",
       "      <td>2</td>\n",
       "      <td>3</td>\n",
       "      <td>4</td>\n",
       "      <td>3</td>\n",
       "      <td>0</td>\n",
       "      <td>2</td>\n",
       "      <td>4814.149231</td>\n",
       "      <td>0</td>\n",
       "    </tr>\n",
       "    <tr>\n",
       "      <th>4</th>\n",
       "      <td>2</td>\n",
       "      <td>1</td>\n",
       "      <td>4</td>\n",
       "      <td>2</td>\n",
       "      <td>7</td>\n",
       "      <td>1</td>\n",
       "      <td>2</td>\n",
       "      <td>5169.269637</td>\n",
       "      <td>1</td>\n",
       "    </tr>\n",
       "  </tbody>\n",
       "</table>\n",
       "</div>"
      ],
      "text/plain": [
       "   Available Extra Rooms in Hospital  Department  Ward_Facility_Code  \\\n",
       "0                                  4           2                   3   \n",
       "1                                  4           2                   1   \n",
       "2                                  2           2                   1   \n",
       "3                                  4           2                   3   \n",
       "4                                  2           1                   4   \n",
       "\n",
       "   doctor_name  Age  gender  Severity of Illness  Admission_Deposit  stay_type  \n",
       "0            8    4       0                    0        2966.408696          0  \n",
       "1            8    3       0                    1        3554.835677          1  \n",
       "2            8    2       0                    0        5624.733654          0  \n",
       "3            4    3       0                    2        4814.149231          0  \n",
       "4            2    7       1                    2        5169.269637          1  "
      ]
     },
     "execution_count": 89,
     "metadata": {},
     "output_type": "execute_result"
    }
   ],
   "source": [
    "# En base a la información obtenida, descartamos las columnas que presentan un valor de correlacion igual o menor a +/- 0.01\n",
    "\n",
    "data = train.drop(columns=['staff_available', 'patientid','Type of Admission', 'health_conditions',\n",
    "       'Visitors with Patient', 'Insurance'])\n",
    "data.head()"
   ]
  },
  {
   "cell_type": "code",
   "execution_count": 90,
   "metadata": {},
   "outputs": [
    {
     "data": {
      "text/html": [
       "<div>\n",
       "<style scoped>\n",
       "    .dataframe tbody tr th:only-of-type {\n",
       "        vertical-align: middle;\n",
       "    }\n",
       "\n",
       "    .dataframe tbody tr th {\n",
       "        vertical-align: top;\n",
       "    }\n",
       "\n",
       "    .dataframe thead th {\n",
       "        text-align: right;\n",
       "    }\n",
       "</style>\n",
       "<table border=\"1\" class=\"dataframe\">\n",
       "  <thead>\n",
       "    <tr style=\"text-align: right;\">\n",
       "      <th></th>\n",
       "      <th>Available Extra Rooms in Hospital</th>\n",
       "      <th>Department</th>\n",
       "      <th>Ward_Facility_Code</th>\n",
       "      <th>doctor_name</th>\n",
       "      <th>Age</th>\n",
       "      <th>gender</th>\n",
       "      <th>Severity of Illness</th>\n",
       "      <th>Admission_Deposit</th>\n",
       "    </tr>\n",
       "  </thead>\n",
       "  <tbody>\n",
       "    <tr>\n",
       "      <th>0</th>\n",
       "      <td>3</td>\n",
       "      <td>2</td>\n",
       "      <td>5</td>\n",
       "      <td>4</td>\n",
       "      <td>2</td>\n",
       "      <td>0</td>\n",
       "      <td>2</td>\n",
       "      <td>4749.640225</td>\n",
       "    </tr>\n",
       "    <tr>\n",
       "      <th>1</th>\n",
       "      <td>2</td>\n",
       "      <td>0</td>\n",
       "      <td>4</td>\n",
       "      <td>1</td>\n",
       "      <td>5</td>\n",
       "      <td>0</td>\n",
       "      <td>2</td>\n",
       "      <td>4122.261324</td>\n",
       "    </tr>\n",
       "    <tr>\n",
       "      <th>2</th>\n",
       "      <td>2</td>\n",
       "      <td>3</td>\n",
       "      <td>4</td>\n",
       "      <td>1</td>\n",
       "      <td>5</td>\n",
       "      <td>2</td>\n",
       "      <td>2</td>\n",
       "      <td>5459.067882</td>\n",
       "    </tr>\n",
       "    <tr>\n",
       "      <th>3</th>\n",
       "      <td>2</td>\n",
       "      <td>2</td>\n",
       "      <td>5</td>\n",
       "      <td>4</td>\n",
       "      <td>2</td>\n",
       "      <td>0</td>\n",
       "      <td>2</td>\n",
       "      <td>3987.033318</td>\n",
       "    </tr>\n",
       "    <tr>\n",
       "      <th>4</th>\n",
       "      <td>2</td>\n",
       "      <td>1</td>\n",
       "      <td>0</td>\n",
       "      <td>1</td>\n",
       "      <td>5</td>\n",
       "      <td>0</td>\n",
       "      <td>0</td>\n",
       "      <td>4770.789695</td>\n",
       "    </tr>\n",
       "  </tbody>\n",
       "</table>\n",
       "</div>"
      ],
      "text/plain": [
       "   Available Extra Rooms in Hospital  Department  Ward_Facility_Code  \\\n",
       "0                                  3           2                   5   \n",
       "1                                  2           0                   4   \n",
       "2                                  2           3                   4   \n",
       "3                                  2           2                   5   \n",
       "4                                  2           1                   0   \n",
       "\n",
       "   doctor_name  Age  gender  Severity of Illness  Admission_Deposit  \n",
       "0            4    2       0                    2        4749.640225  \n",
       "1            1    5       0                    2        4122.261324  \n",
       "2            1    5       2                    2        5459.067882  \n",
       "3            4    2       0                    2        3987.033318  \n",
       "4            1    5       0                    0        4770.789695  "
      ]
     },
     "execution_count": 90,
     "metadata": {},
     "output_type": "execute_result"
    }
   ],
   "source": [
    "#repetimos el proceso en datasert de prueba \n",
    "prueba = test.drop(columns=['staff_available', 'patientid','Type of Admission', 'health_conditions',\n",
    "       'Visitors with Patient', 'Insurance'])\n",
    "prueba.head()"
   ]
  },
  {
   "cell_type": "code",
   "execution_count": 91,
   "metadata": {},
   "outputs": [],
   "source": [
    "X = data.drop(columns = 'stay_type')\n",
    "y = data.stay_type"
   ]
  },
  {
   "cell_type": "code",
   "execution_count": 92,
   "metadata": {},
   "outputs": [],
   "source": [
    "# Separamos nuestros datos\n",
    "X_train, X_test, y_train, y_test = train_test_split(X, y, test_size=0.30, random_state= 48, stratify = y)"
   ]
  },
  {
   "cell_type": "code",
   "execution_count": 94,
   "metadata": {},
   "outputs": [],
   "source": [
    "lista_de_modelos = []\n",
    "N_modelos = 20"
   ]
  },
  {
   "cell_type": "code",
<<<<<<< Updated upstream
   "execution_count": 95,
   "metadata": {},
   "outputs": [],
   "source": [
    "for i in range(N_modelos):\n",
    "    X_train_boostrap, _, y_train_boostrap, _ = train_test_split(X_train, y_train, test_size=0.5, stratify = y_train)\n",
    "    clf = DecisionTreeClassifier(max_depth = None) # Lo dejamos sobreajustar\n",
    "    clf.fit(X_train_boostrap, y_train_boostrap)\n",
    "    lista_de_modelos.append(clf)"
   ]
  },
  {
   "cell_type": "code",
   "execution_count": 96,
=======
   "execution_count": 241,
>>>>>>> Stashed changes
   "metadata": {},
   "outputs": [
    {
     "name": "stdout",
     "output_type": "stream",
     "text": [
      "Accuracy Modelo  1  es  0.7233008130081301\n",
      "Accuracy Modelo  2  es  0.7227723577235773\n",
      "Accuracy Modelo  3  es  0.7252357723577236\n",
      "Accuracy Modelo  4  es  0.7259349593495935\n",
      "Accuracy Modelo  5  es  0.7230243902439024\n",
      "Accuracy Modelo  6  es  0.7239186991869919\n",
      "Accuracy Modelo  7  es  0.725520325203252\n",
      "Accuracy Modelo  8  es  0.7245040650406505\n",
      "Accuracy Modelo  9  es  0.7243983739837399\n",
      "Accuracy Modelo  10  es  0.7231382113821139\n",
      "Accuracy Modelo  11  es  0.725\n",
      "Accuracy Modelo  12  es  0.7232926829268292\n",
      "Accuracy Modelo  13  es  0.7242357723577236\n",
      "Accuracy Modelo  14  es  0.725130081300813\n",
      "Accuracy Modelo  15  es  0.7238861788617886\n",
      "Accuracy Modelo  16  es  0.7243414634146341\n",
      "Accuracy Modelo  17  es  0.7239186991869919\n",
      "Accuracy Modelo  18  es  0.7236829268292683\n",
      "Accuracy Modelo  19  es  0.7250650406504066\n",
      "Accuracy Modelo  20  es  0.7249837398373984\n"
     ]
    }
   ],
   "source": [
    "# Evaluamos cada modelo en hold-out\n",
    "\n",
    "for idx, modelo in enumerate(lista_de_modelos):\n",
    "    y_test_pred = modelo.predict(X_test)\n",
    "    print('Accuracy Modelo ', idx + 1, ' es ', metrics.accuracy_score(y_test, y_test_pred))"
   ]
  },
  {
   "cell_type": "code",
   "execution_count": 97,
   "metadata": {},
   "outputs": [
    {
     "data": {
      "text/plain": [
       "array([0., 0., 0., ..., 0., 0., 0.])"
      ]
     },
     "execution_count": 97,
     "metadata": {},
     "output_type": "execute_result"
    }
   ],
   "source": [
    "probs_test_pred = np.zeros(y_test.size)\n",
    "probs_test_pred"
   ]
  },
  {
   "cell_type": "code",
   "execution_count": 98,
   "metadata": {},
   "outputs": [],
   "source": [
    "# Recorremos la lista y predecimos las probabilidades\n",
    "\n",
    "for modelo in lista_de_modelos:\n",
    "    probs_test_pred_modelo = modelo.predict_proba(X_test)\n",
    "    #print(probs_test_pred_modelo.shape)\n",
    "    probs_test_pred +=probs_test_pred_modelo[:,1]"
   ]
  },
  {
   "cell_type": "code",
   "execution_count": 99,
   "metadata": {},
   "outputs": [],
   "source": [
    "probs_test_pred = probs_test_pred/N_modelos"
   ]
  },
  {
   "cell_type": "code",
   "execution_count": 100,
   "metadata": {},
   "outputs": [],
   "source": [
    "y_test_pred = probs_test_pred>0.5\n",
    "y_test_pred = y_test_pred.astype(int)"
   ]
  },
  {
   "cell_type": "code",
   "execution_count": 101,
   "metadata": {},
   "outputs": [
    {
     "name": "stdout",
     "output_type": "stream",
     "text": [
      "Accuracy del ensamble:  0.7503008130081301\n"
     ]
    }
   ],
   "source": [
    "print('Accuracy del ensamble: ', metrics.accuracy_score(y_test, y_test_pred))"
   ]
  },
  {
   "cell_type": "code",
   "execution_count": 103,
   "metadata": {},
   "outputs": [],
   "source": [
    "from sklearn.ensemble import BaggingClassifier"
   ]
  },
  {
   "cell_type": "code",
   "execution_count": 104,
   "metadata": {},
   "outputs": [
    {
     "name": "stdout",
     "output_type": "stream",
     "text": [
      "0.9999233449477352\n",
      "0.7491138211382113\n"
     ]
    }
   ],
   "source": [
    "clf = BaggingClassifier(base_estimator=DecisionTreeClassifier(), bootstrap_features=False, n_estimators= 100, n_jobs = -1)\n",
    "clf.fit(X_train, y_train)\n",
    "y_train_pred = clf.predict(X_train)\n",
    "y_test_pred = clf.predict(X_test)\n",
    "print(metrics.accuracy_score(y_train, y_train_pred))\n",
    "print(metrics.accuracy_score(y_test, y_test_pred))"
   ]
  },
  {
   "cell_type": "code",
   "execution_count": 105,
   "metadata": {},
   "outputs": [],
   "source": [
    "from sklearn.ensemble import RandomForestClassifier"
   ]
  },
  {
   "cell_type": "code",
   "execution_count": 106,
   "metadata": {},
   "outputs": [
    {
     "name": "stdout",
     "output_type": "stream",
     "text": [
      "[13:45:05] WARNING: C:/buildkite-agent/builds/buildkite-windows-cpu-autoscaling-group-i-030221e36e1a46bfb-1/xgboost/xgboost-ci-windows/src/learner.cc:767: \n",
      "Parameters: { \"binary\" } are not used.\n",
      "\n"
     ]
    },
    {
     "data": {
      "text/html": [
<<<<<<< Updated upstream
       "<style>#sk-container-id-1 {color: black;background-color: white;}#sk-container-id-1 pre{padding: 0;}#sk-container-id-1 div.sk-toggleable {background-color: white;}#sk-container-id-1 label.sk-toggleable__label {cursor: pointer;display: block;width: 100%;margin-bottom: 0;padding: 0.3em;box-sizing: border-box;text-align: center;}#sk-container-id-1 label.sk-toggleable__label-arrow:before {content: \"▸\";float: left;margin-right: 0.25em;color: #696969;}#sk-container-id-1 label.sk-toggleable__label-arrow:hover:before {color: black;}#sk-container-id-1 div.sk-estimator:hover label.sk-toggleable__label-arrow:before {color: black;}#sk-container-id-1 div.sk-toggleable__content {max-height: 0;max-width: 0;overflow: hidden;text-align: left;background-color: #f0f8ff;}#sk-container-id-1 div.sk-toggleable__content pre {margin: 0.2em;color: black;border-radius: 0.25em;background-color: #f0f8ff;}#sk-container-id-1 input.sk-toggleable__control:checked~div.sk-toggleable__content {max-height: 200px;max-width: 100%;overflow: auto;}#sk-container-id-1 input.sk-toggleable__control:checked~label.sk-toggleable__label-arrow:before {content: \"▾\";}#sk-container-id-1 div.sk-estimator input.sk-toggleable__control:checked~label.sk-toggleable__label {background-color: #d4ebff;}#sk-container-id-1 div.sk-label input.sk-toggleable__control:checked~label.sk-toggleable__label {background-color: #d4ebff;}#sk-container-id-1 input.sk-hidden--visually {border: 0;clip: rect(1px 1px 1px 1px);clip: rect(1px, 1px, 1px, 1px);height: 1px;margin: -1px;overflow: hidden;padding: 0;position: absolute;width: 1px;}#sk-container-id-1 div.sk-estimator {font-family: monospace;background-color: #f0f8ff;border: 1px dotted black;border-radius: 0.25em;box-sizing: border-box;margin-bottom: 0.5em;}#sk-container-id-1 div.sk-estimator:hover {background-color: #d4ebff;}#sk-container-id-1 div.sk-parallel-item::after {content: \"\";width: 100%;border-bottom: 1px solid gray;flex-grow: 1;}#sk-container-id-1 div.sk-label:hover label.sk-toggleable__label {background-color: #d4ebff;}#sk-container-id-1 div.sk-serial::before {content: \"\";position: absolute;border-left: 1px solid gray;box-sizing: border-box;top: 0;bottom: 0;left: 50%;z-index: 0;}#sk-container-id-1 div.sk-serial {display: flex;flex-direction: column;align-items: center;background-color: white;padding-right: 0.2em;padding-left: 0.2em;position: relative;}#sk-container-id-1 div.sk-item {position: relative;z-index: 1;}#sk-container-id-1 div.sk-parallel {display: flex;align-items: stretch;justify-content: center;background-color: white;position: relative;}#sk-container-id-1 div.sk-item::before, #sk-container-id-1 div.sk-parallel-item::before {content: \"\";position: absolute;border-left: 1px solid gray;box-sizing: border-box;top: 0;bottom: 0;left: 50%;z-index: -1;}#sk-container-id-1 div.sk-parallel-item {display: flex;flex-direction: column;z-index: 1;position: relative;background-color: white;}#sk-container-id-1 div.sk-parallel-item:first-child::after {align-self: flex-end;width: 50%;}#sk-container-id-1 div.sk-parallel-item:last-child::after {align-self: flex-start;width: 50%;}#sk-container-id-1 div.sk-parallel-item:only-child::after {width: 0;}#sk-container-id-1 div.sk-dashed-wrapped {border: 1px dashed gray;margin: 0 0.4em 0.5em 0.4em;box-sizing: border-box;padding-bottom: 0.4em;background-color: white;}#sk-container-id-1 div.sk-label label {font-family: monospace;font-weight: bold;display: inline-block;line-height: 1.2em;}#sk-container-id-1 div.sk-label-container {text-align: center;}#sk-container-id-1 div.sk-container {/* jupyter's `normalize.less` sets `[hidden] { display: none; }` but bootstrap.min.css set `[hidden] { display: none !important; }` so we also need the `!important` here to be able to override the default hidden behavior on the sphinx rendered scikit-learn.org. See: https://github.com/scikit-learn/scikit-learn/issues/21755 */display: inline-block !important;position: relative;}#sk-container-id-1 div.sk-text-repr-fallback {display: none;}</style><div id=\"sk-container-id-1\" class=\"sk-top-container\"><div class=\"sk-text-repr-fallback\"><pre>RandomForestClassifier(n_jobs=-1, oob_score=True, random_state=42)</pre><b>In a Jupyter environment, please rerun this cell to show the HTML representation or trust the notebook. <br />On GitHub, the HTML representation is unable to render, please try loading this page with nbviewer.org.</b></div><div class=\"sk-container\" hidden><div class=\"sk-item\"><div class=\"sk-estimator sk-toggleable\"><input class=\"sk-toggleable__control sk-hidden--visually\" id=\"sk-estimator-id-1\" type=\"checkbox\" checked><label for=\"sk-estimator-id-1\" class=\"sk-toggleable__label sk-toggleable__label-arrow\">RandomForestClassifier</label><div class=\"sk-toggleable__content\"><pre>RandomForestClassifier(n_jobs=-1, oob_score=True, random_state=42)</pre></div></div></div></div></div>"
      ],
      "text/plain": [
       "RandomForestClassifier(n_jobs=-1, oob_score=True, random_state=42)"
      ]
     },
     "execution_count": 106,
=======
       "<style>#sk-container-id-27 {color: black;background-color: white;}#sk-container-id-27 pre{padding: 0;}#sk-container-id-27 div.sk-toggleable {background-color: white;}#sk-container-id-27 label.sk-toggleable__label {cursor: pointer;display: block;width: 100%;margin-bottom: 0;padding: 0.3em;box-sizing: border-box;text-align: center;}#sk-container-id-27 label.sk-toggleable__label-arrow:before {content: \"▸\";float: left;margin-right: 0.25em;color: #696969;}#sk-container-id-27 label.sk-toggleable__label-arrow:hover:before {color: black;}#sk-container-id-27 div.sk-estimator:hover label.sk-toggleable__label-arrow:before {color: black;}#sk-container-id-27 div.sk-toggleable__content {max-height: 0;max-width: 0;overflow: hidden;text-align: left;background-color: #f0f8ff;}#sk-container-id-27 div.sk-toggleable__content pre {margin: 0.2em;color: black;border-radius: 0.25em;background-color: #f0f8ff;}#sk-container-id-27 input.sk-toggleable__control:checked~div.sk-toggleable__content {max-height: 200px;max-width: 100%;overflow: auto;}#sk-container-id-27 input.sk-toggleable__control:checked~label.sk-toggleable__label-arrow:before {content: \"▾\";}#sk-container-id-27 div.sk-estimator input.sk-toggleable__control:checked~label.sk-toggleable__label {background-color: #d4ebff;}#sk-container-id-27 div.sk-label input.sk-toggleable__control:checked~label.sk-toggleable__label {background-color: #d4ebff;}#sk-container-id-27 input.sk-hidden--visually {border: 0;clip: rect(1px 1px 1px 1px);clip: rect(1px, 1px, 1px, 1px);height: 1px;margin: -1px;overflow: hidden;padding: 0;position: absolute;width: 1px;}#sk-container-id-27 div.sk-estimator {font-family: monospace;background-color: #f0f8ff;border: 1px dotted black;border-radius: 0.25em;box-sizing: border-box;margin-bottom: 0.5em;}#sk-container-id-27 div.sk-estimator:hover {background-color: #d4ebff;}#sk-container-id-27 div.sk-parallel-item::after {content: \"\";width: 100%;border-bottom: 1px solid gray;flex-grow: 1;}#sk-container-id-27 div.sk-label:hover label.sk-toggleable__label {background-color: #d4ebff;}#sk-container-id-27 div.sk-serial::before {content: \"\";position: absolute;border-left: 1px solid gray;box-sizing: border-box;top: 0;bottom: 0;left: 50%;z-index: 0;}#sk-container-id-27 div.sk-serial {display: flex;flex-direction: column;align-items: center;background-color: white;padding-right: 0.2em;padding-left: 0.2em;position: relative;}#sk-container-id-27 div.sk-item {position: relative;z-index: 1;}#sk-container-id-27 div.sk-parallel {display: flex;align-items: stretch;justify-content: center;background-color: white;position: relative;}#sk-container-id-27 div.sk-item::before, #sk-container-id-27 div.sk-parallel-item::before {content: \"\";position: absolute;border-left: 1px solid gray;box-sizing: border-box;top: 0;bottom: 0;left: 50%;z-index: -1;}#sk-container-id-27 div.sk-parallel-item {display: flex;flex-direction: column;z-index: 1;position: relative;background-color: white;}#sk-container-id-27 div.sk-parallel-item:first-child::after {align-self: flex-end;width: 50%;}#sk-container-id-27 div.sk-parallel-item:last-child::after {align-self: flex-start;width: 50%;}#sk-container-id-27 div.sk-parallel-item:only-child::after {width: 0;}#sk-container-id-27 div.sk-dashed-wrapped {border: 1px dashed gray;margin: 0 0.4em 0.5em 0.4em;box-sizing: border-box;padding-bottom: 0.4em;background-color: white;}#sk-container-id-27 div.sk-label label {font-family: monospace;font-weight: bold;display: inline-block;line-height: 1.2em;}#sk-container-id-27 div.sk-label-container {text-align: center;}#sk-container-id-27 div.sk-container {/* jupyter's `normalize.less` sets `[hidden] { display: none; }` but bootstrap.min.css set `[hidden] { display: none !important; }` so we also need the `!important` here to be able to override the default hidden behavior on the sphinx rendered scikit-learn.org. See: https://github.com/scikit-learn/scikit-learn/issues/21755 */display: inline-block !important;position: relative;}#sk-container-id-27 div.sk-text-repr-fallback {display: none;}</style><div id=\"sk-container-id-27\" class=\"sk-top-container\"><div class=\"sk-text-repr-fallback\"><pre>XGBClassifier(base_score=0.5, binary=&#x27;logistic&#x27;, booster=&#x27;gbtree&#x27;,\n",
       "              callbacks=None, colsample_bylevel=1, colsample_bynode=1,\n",
       "              colsample_bytree=1, early_stopping_rounds=None,\n",
       "              enable_categorical=False, eta=0.01, eval_metric=None,\n",
       "              feature_types=None, gamma=0, gpu_id=-1, grow_policy=&#x27;depthwise&#x27;,\n",
       "              importance_type=None, interaction_constraints=&#x27;&#x27;,\n",
       "              learning_rate=0.00999999978, max_bin=256, max_cat_threshold=64,\n",
       "              max_cat_to_onehot=4, max_delta_step=0, max_depth=8, max_leaves=0,\n",
       "              min_child_weight=1, missing=nan, monotone_constraints=&#x27;()&#x27;,\n",
       "              n_estimators=150, n_jobs=0, num_parallel_tree=1, ...)</pre><b>In a Jupyter environment, please rerun this cell to show the HTML representation or trust the notebook. <br />On GitHub, the HTML representation is unable to render, please try loading this page with nbviewer.org.</b></div><div class=\"sk-container\" hidden><div class=\"sk-item\"><div class=\"sk-estimator sk-toggleable\"><input class=\"sk-toggleable__control sk-hidden--visually\" id=\"sk-estimator-id-27\" type=\"checkbox\" checked><label for=\"sk-estimator-id-27\" class=\"sk-toggleable__label sk-toggleable__label-arrow\">XGBClassifier</label><div class=\"sk-toggleable__content\"><pre>XGBClassifier(base_score=0.5, binary=&#x27;logistic&#x27;, booster=&#x27;gbtree&#x27;,\n",
       "              callbacks=None, colsample_bylevel=1, colsample_bynode=1,\n",
       "              colsample_bytree=1, early_stopping_rounds=None,\n",
       "              enable_categorical=False, eta=0.01, eval_metric=None,\n",
       "              feature_types=None, gamma=0, gpu_id=-1, grow_policy=&#x27;depthwise&#x27;,\n",
       "              importance_type=None, interaction_constraints=&#x27;&#x27;,\n",
       "              learning_rate=0.00999999978, max_bin=256, max_cat_threshold=64,\n",
       "              max_cat_to_onehot=4, max_delta_step=0, max_depth=8, max_leaves=0,\n",
       "              min_child_weight=1, missing=nan, monotone_constraints=&#x27;()&#x27;,\n",
       "              n_estimators=150, n_jobs=0, num_parallel_tree=1, ...)</pre></div></div></div></div></div>"
      ],
      "text/plain": [
       "XGBClassifier(base_score=0.5, binary='logistic', booster='gbtree',\n",
       "              callbacks=None, colsample_bylevel=1, colsample_bynode=1,\n",
       "              colsample_bytree=1, early_stopping_rounds=None,\n",
       "              enable_categorical=False, eta=0.01, eval_metric=None,\n",
       "              feature_types=None, gamma=0, gpu_id=-1, grow_policy='depthwise',\n",
       "              importance_type=None, interaction_constraints='',\n",
       "              learning_rate=0.00999999978, max_bin=256, max_cat_threshold=64,\n",
       "              max_cat_to_onehot=4, max_delta_step=0, max_depth=8, max_leaves=0,\n",
       "              min_child_weight=1, missing=nan, monotone_constraints='()',\n",
       "              n_estimators=150, n_jobs=0, num_parallel_tree=1, ...)"
      ]
     },
     "execution_count": 241,
>>>>>>> Stashed changes
     "metadata": {},
     "output_type": "execute_result"
    }
   ],
   "source": [
    "# Instanciamos el modelo\n",
    "\n",
<<<<<<< Updated upstream
    "clf = RandomForestClassifier(n_estimators=100, max_features='sqrt', n_jobs=-1, oob_score = True, random_state = 42)\n",
    "clf.fit(X_train,y_train)"
=======
    "clf_xgb = xgb.XGBClassifier(n_estimators=150,\n",
    "                            seed=42, use_label_encoder= False, max_depth=8, eta=0.01, binary='logistic')\n",
    "                            \n",
    "# Entrenamos\n",
    "clf_xgb.fit(X_train, y_train)"
>>>>>>> Stashed changes
   ]
  },
  {
   "cell_type": "code",
<<<<<<< Updated upstream
   "execution_count": 107,
=======
   "execution_count": 242,
>>>>>>> Stashed changes
   "metadata": {},
   "outputs": [
    {
     "name": "stdout",
     "output_type": "stream",
     "text": [
<<<<<<< Updated upstream
      "0.9998327526132404\n",
      "0.7338373983739838\n"
=======
      "Accuracy en train: 0.726\n",
      "Accuracy en test: 0.727\n",
      "recall en train: 0.859\n",
      "recall en test: 0.858\n"
>>>>>>> Stashed changes
     ]
    }
   ],
   "source": [
    "# Evaluamos\n",
    "\n",
    "y_train_pred = clf.predict(X_train)\n",
    "y_test_pred = clf.predict(X_test)\n",
    "print(metrics.accuracy_score(y_train, y_train_pred))\n",
    "print(metrics.accuracy_score(y_test, y_test_pred))"
   ]
  },
  {
   "cell_type": "code",
   "execution_count": 108,
   "metadata": {},
   "outputs": [
    {
     "data": {
      "image/png": "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",
      "text/plain": [
       "<Figure size 1200x700 with 1 Axes>"
      ]
     },
     "metadata": {},
     "output_type": "display_data"
    }
   ],
   "source": [
    "# Diagrama de barras de la importancia de los atributos\n",
    "\n",
<<<<<<< Updated upstream
    "importances = clf.feature_importances_\n",
    "columns = X_train.columns\n",
    "indices = np.argsort(importances)[::-1]\n",
    "\n",
    "plt.figure(figsize = (12,7))\n",
    "sns.barplot(x = columns[indices], y = importances[indices])\n",
    "plt.show()"
=======
    "# Evaluamos\n",
    "print('Accuracy en train:', round(metrics.accuracy_score(y_train, y_train_pred),3))\n",
    "print('Accuracy en test:', round(metrics.accuracy_score(y_test, y_test_pred),3))\n",
    "print('recall en train:', round(metrics.recall_score(y_train, y_train_pred),3))\n",
    "print('recall en test:', round(metrics.recall_score(y_test, y_test_pred),3))"
>>>>>>> Stashed changes
   ]
  },
  {
   "cell_type": "code",
   "execution_count": 109,
   "metadata": {},
   "outputs": [
    {
     "data": {
      "text/plain": [
       "[DecisionTreeClassifier(max_features='sqrt', random_state=1608637542),\n",
       " DecisionTreeClassifier(max_features='sqrt', random_state=1273642419),\n",
       " DecisionTreeClassifier(max_features='sqrt', random_state=1935803228),\n",
       " DecisionTreeClassifier(max_features='sqrt', random_state=787846414),\n",
       " DecisionTreeClassifier(max_features='sqrt', random_state=996406378),\n",
       " DecisionTreeClassifier(max_features='sqrt', random_state=1201263687),\n",
       " DecisionTreeClassifier(max_features='sqrt', random_state=423734972),\n",
       " DecisionTreeClassifier(max_features='sqrt', random_state=415968276),\n",
       " DecisionTreeClassifier(max_features='sqrt', random_state=670094950),\n",
       " DecisionTreeClassifier(max_features='sqrt', random_state=1914837113),\n",
       " DecisionTreeClassifier(max_features='sqrt', random_state=669991378),\n",
       " DecisionTreeClassifier(max_features='sqrt', random_state=429389014),\n",
       " DecisionTreeClassifier(max_features='sqrt', random_state=249467210),\n",
       " DecisionTreeClassifier(max_features='sqrt', random_state=1972458954),\n",
       " DecisionTreeClassifier(max_features='sqrt', random_state=1572714583),\n",
       " DecisionTreeClassifier(max_features='sqrt', random_state=1433267572),\n",
       " DecisionTreeClassifier(max_features='sqrt', random_state=434285667),\n",
       " DecisionTreeClassifier(max_features='sqrt', random_state=613608295),\n",
       " DecisionTreeClassifier(max_features='sqrt', random_state=893664919),\n",
       " DecisionTreeClassifier(max_features='sqrt', random_state=648061058),\n",
       " DecisionTreeClassifier(max_features='sqrt', random_state=88409749),\n",
       " DecisionTreeClassifier(max_features='sqrt', random_state=242285876),\n",
       " DecisionTreeClassifier(max_features='sqrt', random_state=2018247425),\n",
       " DecisionTreeClassifier(max_features='sqrt', random_state=953477463),\n",
       " DecisionTreeClassifier(max_features='sqrt', random_state=1427830251),\n",
       " DecisionTreeClassifier(max_features='sqrt', random_state=1883569565),\n",
       " DecisionTreeClassifier(max_features='sqrt', random_state=911989541),\n",
       " DecisionTreeClassifier(max_features='sqrt', random_state=3344769),\n",
       " DecisionTreeClassifier(max_features='sqrt', random_state=780932287),\n",
       " DecisionTreeClassifier(max_features='sqrt', random_state=2114032571),\n",
       " DecisionTreeClassifier(max_features='sqrt', random_state=787716372),\n",
       " DecisionTreeClassifier(max_features='sqrt', random_state=504579232),\n",
       " DecisionTreeClassifier(max_features='sqrt', random_state=1306710475),\n",
       " DecisionTreeClassifier(max_features='sqrt', random_state=479546681),\n",
       " DecisionTreeClassifier(max_features='sqrt', random_state=106328085),\n",
       " DecisionTreeClassifier(max_features='sqrt', random_state=30349564),\n",
       " DecisionTreeClassifier(max_features='sqrt', random_state=1855189739),\n",
       " DecisionTreeClassifier(max_features='sqrt', random_state=99052376),\n",
       " DecisionTreeClassifier(max_features='sqrt', random_state=1250819632),\n",
       " DecisionTreeClassifier(max_features='sqrt', random_state=106406362),\n",
       " DecisionTreeClassifier(max_features='sqrt', random_state=480404538),\n",
       " DecisionTreeClassifier(max_features='sqrt', random_state=1717389822),\n",
       " DecisionTreeClassifier(max_features='sqrt', random_state=599121577),\n",
       " DecisionTreeClassifier(max_features='sqrt', random_state=200427519),\n",
       " DecisionTreeClassifier(max_features='sqrt', random_state=1254751707),\n",
       " DecisionTreeClassifier(max_features='sqrt', random_state=2034764475),\n",
       " DecisionTreeClassifier(max_features='sqrt', random_state=1573512143),\n",
       " DecisionTreeClassifier(max_features='sqrt', random_state=999745294),\n",
       " DecisionTreeClassifier(max_features='sqrt', random_state=1958805693),\n",
       " DecisionTreeClassifier(max_features='sqrt', random_state=389151677),\n",
       " DecisionTreeClassifier(max_features='sqrt', random_state=1224821422),\n",
       " DecisionTreeClassifier(max_features='sqrt', random_state=508464061),\n",
       " DecisionTreeClassifier(max_features='sqrt', random_state=857592370),\n",
       " DecisionTreeClassifier(max_features='sqrt', random_state=1642661739),\n",
       " DecisionTreeClassifier(max_features='sqrt', random_state=61136438),\n",
       " DecisionTreeClassifier(max_features='sqrt', random_state=2075460851),\n",
       " DecisionTreeClassifier(max_features='sqrt', random_state=396917567),\n",
       " DecisionTreeClassifier(max_features='sqrt', random_state=2004731384),\n",
       " DecisionTreeClassifier(max_features='sqrt', random_state=199502978),\n",
       " DecisionTreeClassifier(max_features='sqrt', random_state=1545932260),\n",
       " DecisionTreeClassifier(max_features='sqrt', random_state=461901618),\n",
       " DecisionTreeClassifier(max_features='sqrt', random_state=774414982),\n",
       " DecisionTreeClassifier(max_features='sqrt', random_state=732395540),\n",
       " DecisionTreeClassifier(max_features='sqrt', random_state=1934879560),\n",
       " DecisionTreeClassifier(max_features='sqrt', random_state=279394470),\n",
       " DecisionTreeClassifier(max_features='sqrt', random_state=56972561),\n",
       " DecisionTreeClassifier(max_features='sqrt', random_state=1927948675),\n",
       " DecisionTreeClassifier(max_features='sqrt', random_state=1899242072),\n",
       " DecisionTreeClassifier(max_features='sqrt', random_state=1999874363),\n",
       " DecisionTreeClassifier(max_features='sqrt', random_state=271820813),\n",
       " DecisionTreeClassifier(max_features='sqrt', random_state=1324556529),\n",
       " DecisionTreeClassifier(max_features='sqrt', random_state=1655351289),\n",
       " DecisionTreeClassifier(max_features='sqrt', random_state=1308306184),\n",
       " DecisionTreeClassifier(max_features='sqrt', random_state=68574553),\n",
       " DecisionTreeClassifier(max_features='sqrt', random_state=419498548),\n",
       " DecisionTreeClassifier(max_features='sqrt', random_state=991681409),\n",
       " DecisionTreeClassifier(max_features='sqrt', random_state=791274835),\n",
       " DecisionTreeClassifier(max_features='sqrt', random_state=1035196507),\n",
       " DecisionTreeClassifier(max_features='sqrt', random_state=1890440558),\n",
       " DecisionTreeClassifier(max_features='sqrt', random_state=787110843),\n",
       " DecisionTreeClassifier(max_features='sqrt', random_state=524150214),\n",
       " DecisionTreeClassifier(max_features='sqrt', random_state=472432043),\n",
       " DecisionTreeClassifier(max_features='sqrt', random_state=2126768636),\n",
       " DecisionTreeClassifier(max_features='sqrt', random_state=1431061255),\n",
       " DecisionTreeClassifier(max_features='sqrt', random_state=147697582),\n",
       " DecisionTreeClassifier(max_features='sqrt', random_state=744595490),\n",
       " DecisionTreeClassifier(max_features='sqrt', random_state=1758017741),\n",
       " DecisionTreeClassifier(max_features='sqrt', random_state=1679592528),\n",
       " DecisionTreeClassifier(max_features='sqrt', random_state=1111451555),\n",
       " DecisionTreeClassifier(max_features='sqrt', random_state=782698033),\n",
       " DecisionTreeClassifier(max_features='sqrt', random_state=698027879),\n",
       " DecisionTreeClassifier(max_features='sqrt', random_state=1096768899),\n",
       " DecisionTreeClassifier(max_features='sqrt', random_state=1338788865),\n",
       " DecisionTreeClassifier(max_features='sqrt', random_state=1826030589),\n",
       " DecisionTreeClassifier(max_features='sqrt', random_state=86191493),\n",
       " DecisionTreeClassifier(max_features='sqrt', random_state=893102645),\n",
       " DecisionTreeClassifier(max_features='sqrt', random_state=200619113),\n",
       " DecisionTreeClassifier(max_features='sqrt', random_state=290770691),\n",
       " DecisionTreeClassifier(max_features='sqrt', random_state=793943861),\n",
       " DecisionTreeClassifier(max_features='sqrt', random_state=134489564)]"
      ]
     },
     "execution_count": 109,
     "metadata": {},
     "output_type": "execute_result"
    }
   ],
   "source": [
    "clf.estimators_"
   ]
  },
  {
   "cell_type": "code",
   "execution_count": 110,
   "metadata": {},
   "outputs": [
    {
     "data": {
      "text/plain": [
       "{'ccp_alpha': 0.0,\n",
       " 'class_weight': None,\n",
       " 'criterion': 'gini',\n",
       " 'max_depth': None,\n",
       " 'max_features': 'sqrt',\n",
       " 'max_leaf_nodes': None,\n",
       " 'min_impurity_decrease': 0.0,\n",
       " 'min_samples_leaf': 1,\n",
       " 'min_samples_split': 2,\n",
       " 'min_weight_fraction_leaf': 0.0,\n",
       " 'random_state': 1224821422,\n",
       " 'splitter': 'best'}"
      ]
     },
     "execution_count": 110,
     "metadata": {},
     "output_type": "execute_result"
    }
   ],
   "source": [
    "# Elegimos, aleatoriamente, uno de los árboles del bosque\n",
    "\n",
    "clf_tree = clf.estimators_[50]\n",
    "clf_tree.get_params()"
   ]
  },
  {
   "cell_type": "code",
   "execution_count": 111,
   "metadata": {},
   "outputs": [
    {
     "name": "stdout",
     "output_type": "stream",
     "text": [
      "0.8996306620209059\n",
      "0.7284227642276423\n"
     ]
    },
    {
     "name": "stderr",
     "output_type": "stream",
     "text": [
      "c:\\Users\\mecad\\AppData\\Local\\Programs\\Python\\Python311\\Lib\\site-packages\\sklearn\\base.py:443: UserWarning: X has feature names, but DecisionTreeClassifier was fitted without feature names\n",
      "  warnings.warn(\n",
      "c:\\Users\\mecad\\AppData\\Local\\Programs\\Python\\Python311\\Lib\\site-packages\\sklearn\\base.py:443: UserWarning: X has feature names, but DecisionTreeClassifier was fitted without feature names\n",
      "  warnings.warn(\n"
     ]
    }
   ],
   "source": [
    "# Predecimos y evaluamos en train y test\n",
    "\n",
    "y_train_pred = clf_tree.predict(X_train)\n",
    "y_test_pred = clf_tree.predict(X_test)\n",
    "print(metrics.accuracy_score(y_train, y_train_pred))\n",
    "print(metrics.accuracy_score(y_test, y_test_pred))"
   ]
  },
  {
   "cell_type": "code",
   "execution_count": 112,
   "metadata": {},
   "outputs": [
    {
     "name": "stdout",
     "output_type": "stream",
     "text": [
      "1\n"
     ]
    },
    {
     "name": "stderr",
     "output_type": "stream",
     "text": [
      "c:\\Users\\mecad\\AppData\\Local\\Programs\\Python\\Python311\\Lib\\site-packages\\sklearn\\ensemble\\_forest.py:586: UserWarning: Some inputs do not have OOB scores. This probably means too few trees were used to compute any reliable OOB estimates.\n",
      "  warn(\n"
     ]
    },
    {
     "name": "stdout",
     "output_type": "stream",
     "text": [
      "2\n"
     ]
    },
    {
     "name": "stderr",
     "output_type": "stream",
     "text": [
      "c:\\Users\\mecad\\AppData\\Local\\Programs\\Python\\Python311\\Lib\\site-packages\\sklearn\\ensemble\\_forest.py:586: UserWarning: Some inputs do not have OOB scores. This probably means too few trees were used to compute any reliable OOB estimates.\n",
      "  warn(\n"
     ]
    },
    {
     "name": "stdout",
     "output_type": "stream",
     "text": [
      "3\n"
     ]
    },
    {
     "name": "stderr",
     "output_type": "stream",
     "text": [
      "c:\\Users\\mecad\\AppData\\Local\\Programs\\Python\\Python311\\Lib\\site-packages\\sklearn\\ensemble\\_forest.py:586: UserWarning: Some inputs do not have OOB scores. This probably means too few trees were used to compute any reliable OOB estimates.\n",
      "  warn(\n"
     ]
    },
    {
     "name": "stdout",
     "output_type": "stream",
     "text": [
      "4\n"
     ]
    },
    {
     "name": "stderr",
     "output_type": "stream",
     "text": [
      "c:\\Users\\mecad\\AppData\\Local\\Programs\\Python\\Python311\\Lib\\site-packages\\sklearn\\ensemble\\_forest.py:586: UserWarning: Some inputs do not have OOB scores. This probably means too few trees were used to compute any reliable OOB estimates.\n",
      "  warn(\n"
     ]
    },
    {
     "name": "stdout",
     "output_type": "stream",
     "text": [
      "5\n"
     ]
    },
    {
     "name": "stderr",
     "output_type": "stream",
     "text": [
      "c:\\Users\\mecad\\AppData\\Local\\Programs\\Python\\Python311\\Lib\\site-packages\\sklearn\\ensemble\\_forest.py:586: UserWarning: Some inputs do not have OOB scores. This probably means too few trees were used to compute any reliable OOB estimates.\n",
      "  warn(\n"
     ]
    },
    {
     "name": "stdout",
     "output_type": "stream",
     "text": [
      "10\n"
     ]
    },
    {
     "name": "stderr",
     "output_type": "stream",
     "text": [
      "c:\\Users\\mecad\\AppData\\Local\\Programs\\Python\\Python311\\Lib\\site-packages\\sklearn\\ensemble\\_forest.py:586: UserWarning: Some inputs do not have OOB scores. This probably means too few trees were used to compute any reliable OOB estimates.\n",
      "  warn(\n"
     ]
    },
    {
     "name": "stdout",
     "output_type": "stream",
     "text": [
      "25\n"
     ]
    },
    {
     "name": "stderr",
     "output_type": "stream",
     "text": [
      "c:\\Users\\mecad\\AppData\\Local\\Programs\\Python\\Python311\\Lib\\site-packages\\sklearn\\ensemble\\_forest.py:586: UserWarning: Some inputs do not have OOB scores. This probably means too few trees were used to compute any reliable OOB estimates.\n",
      "  warn(\n"
     ]
    },
    {
     "name": "stdout",
     "output_type": "stream",
     "text": [
      "50\n",
      "100\n",
      "250\n",
      "500\n",
      "1000\n"
     ]
    }
   ],
   "source": [
    "train_accuracy = []\n",
    "test_accuracy = []\n",
    "oob_scores = []\n",
    "\n",
    "N_estimadores = [1,2,3,4,5,10,25,50,100,250,500,1000]\n",
    "for estimadores in N_estimadores:\n",
    "    print(estimadores)\n",
    "    clf = RandomForestClassifier(n_estimators=estimadores, n_jobs=-1, oob_score= True, random_state = 42)\n",
    "    clf.fit(X_train,y_train)\n",
    "    \n",
    "    y_train_pred = clf.predict(X_train)\n",
    "    y_test_pred = clf.predict(X_test)\n",
    "    \n",
    "    train_accuracy.append(metrics.accuracy_score(y_train, y_train_pred))\n",
    "    test_accuracy.append(metrics.accuracy_score(y_test, y_test_pred))\n",
    "    oob_scores.append(clf.oob_score_)\n",
    "    \n",
    "train_accuracy = np.array(train_accuracy)\n",
    "test_accuracy = np.array(test_accuracy)\n",
    "oob_scores = np.array(oob_scores)"
   ]
  },
  {
   "cell_type": "code",
   "execution_count": 113,
   "metadata": {},
   "outputs": [
    {
     "data": {
      "image/png": "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",
      "text/plain": [
       "<Figure size 1400x800 with 1 Axes>"
      ]
     },
     "metadata": {},
     "output_type": "display_data"
    }
   ],
   "source": [
    "plt.figure(figsize = (14,8))\n",
    "plt.plot(N_estimadores, train_accuracy, label = 'Train')\n",
    "plt.plot(N_estimadores, test_accuracy, label = 'Test')\n",
    "plt.plot(N_estimadores, oob_scores, label = 'OOB')\n",
    "plt.xlabel('Numero de estimadores')\n",
    "plt.ylabel('Accuracy')\n",
    "plt.legend()\n",
    "plt.title('Curvas de validación/complejidad', fontsize = 15)\n",
    "# plt.xlim(0,50)\n",
    "plt.show()"
   ]
  },
  {
   "cell_type": "code",
   "execution_count": 114,
   "metadata": {},
   "outputs": [
    {
     "name": "stdout",
     "output_type": "stream",
     "text": [
      "Tardó 1130 segundos\n"
     ]
    }
   ],
   "source": [
    "# Tengan paciencia que esto lleva su tiempo :)\n",
    "import time\n",
    "\n",
    "comienzo = time.time()\n",
    "clf = RandomForestClassifier(n_estimators=250, n_jobs=-1, oob_score= True, random_state = 42)\n",
    "\n",
    "train_sizes, train_scores, valid_scores = learning_curve(clf, X_train, y_train, \n",
    "                                                         train_sizes = np.linspace(0.0001,1,10),\n",
    "                                                         scoring = 'accuracy', cv=5)\n",
    "fin = time.time() - comienzo\n",
    "\n",
    "print(f'Tardó {round(fin)} segundos')"
   ]
  },
  {
   "cell_type": "code",
   "execution_count": 115,
   "metadata": {},
   "outputs": [
    {
     "data": {
      "image/png": "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",
      "text/plain": [
       "<Figure size 1400x800 with 1 Axes>"
      ]
     },
     "metadata": {},
     "output_type": "display_data"
    }
   ],
   "source": [
    "# Graficamos la curva de aprendizaje\n",
    "\n",
    "plt.figure(figsize = (14,8))\n",
    "plt.plot(train_sizes, train_scores.mean(axis = 1), color = 'r')\n",
    "plt.plot(train_sizes, valid_scores.mean(axis = 1), color = 'g')\n",
    "\n",
    "plt.fill_between(train_sizes, train_scores.mean(axis = 1)- train_scores.std(axis = 1),\n",
    "                     train_scores.mean(axis = 1)+ train_scores.std(axis = 1), alpha=0.25,\n",
    "                     color=\"r\")\n",
    "plt.fill_between(train_sizes, valid_scores.mean(axis = 1) - valid_scores.std(axis = 1),\n",
    "                     valid_scores.mean(axis = 1) + valid_scores.std(axis = 1), alpha=0.25, color=\"g\")\n",
    "\n",
    "plt.ylim(0.5,1.1)\n",
    "plt.legend(['Training Score','Cross-validation'])\n",
    "plt.xlabel('Training examples')\n",
    "plt.ylabel('Score')\n",
    "plt.show()"
   ]
  },
  {
   "cell_type": "code",
   "execution_count": 116,
   "metadata": {},
   "outputs": [
    {
     "name": "stderr",
     "output_type": "stream",
     "text": [
      "c:\\Users\\mecad\\AppData\\Local\\Programs\\Python\\Python311\\Lib\\site-packages\\xgboost\\sklearn.py:1421: UserWarning: `use_label_encoder` is deprecated in 1.7.0.\n",
      "  warnings.warn(\"`use_label_encoder` is deprecated in 1.7.0.\")\n"
     ]
    },
    {
     "data": {
      "text/html": [
       "<style>#sk-container-id-2 {color: black;background-color: white;}#sk-container-id-2 pre{padding: 0;}#sk-container-id-2 div.sk-toggleable {background-color: white;}#sk-container-id-2 label.sk-toggleable__label {cursor: pointer;display: block;width: 100%;margin-bottom: 0;padding: 0.3em;box-sizing: border-box;text-align: center;}#sk-container-id-2 label.sk-toggleable__label-arrow:before {content: \"▸\";float: left;margin-right: 0.25em;color: #696969;}#sk-container-id-2 label.sk-toggleable__label-arrow:hover:before {color: black;}#sk-container-id-2 div.sk-estimator:hover label.sk-toggleable__label-arrow:before {color: black;}#sk-container-id-2 div.sk-toggleable__content {max-height: 0;max-width: 0;overflow: hidden;text-align: left;background-color: #f0f8ff;}#sk-container-id-2 div.sk-toggleable__content pre {margin: 0.2em;color: black;border-radius: 0.25em;background-color: #f0f8ff;}#sk-container-id-2 input.sk-toggleable__control:checked~div.sk-toggleable__content {max-height: 200px;max-width: 100%;overflow: auto;}#sk-container-id-2 input.sk-toggleable__control:checked~label.sk-toggleable__label-arrow:before {content: \"▾\";}#sk-container-id-2 div.sk-estimator input.sk-toggleable__control:checked~label.sk-toggleable__label {background-color: #d4ebff;}#sk-container-id-2 div.sk-label input.sk-toggleable__control:checked~label.sk-toggleable__label {background-color: #d4ebff;}#sk-container-id-2 input.sk-hidden--visually {border: 0;clip: rect(1px 1px 1px 1px);clip: rect(1px, 1px, 1px, 1px);height: 1px;margin: -1px;overflow: hidden;padding: 0;position: absolute;width: 1px;}#sk-container-id-2 div.sk-estimator {font-family: monospace;background-color: #f0f8ff;border: 1px dotted black;border-radius: 0.25em;box-sizing: border-box;margin-bottom: 0.5em;}#sk-container-id-2 div.sk-estimator:hover {background-color: #d4ebff;}#sk-container-id-2 div.sk-parallel-item::after {content: \"\";width: 100%;border-bottom: 1px solid gray;flex-grow: 1;}#sk-container-id-2 div.sk-label:hover label.sk-toggleable__label {background-color: #d4ebff;}#sk-container-id-2 div.sk-serial::before {content: \"\";position: absolute;border-left: 1px solid gray;box-sizing: border-box;top: 0;bottom: 0;left: 50%;z-index: 0;}#sk-container-id-2 div.sk-serial {display: flex;flex-direction: column;align-items: center;background-color: white;padding-right: 0.2em;padding-left: 0.2em;position: relative;}#sk-container-id-2 div.sk-item {position: relative;z-index: 1;}#sk-container-id-2 div.sk-parallel {display: flex;align-items: stretch;justify-content: center;background-color: white;position: relative;}#sk-container-id-2 div.sk-item::before, #sk-container-id-2 div.sk-parallel-item::before {content: \"\";position: absolute;border-left: 1px solid gray;box-sizing: border-box;top: 0;bottom: 0;left: 50%;z-index: -1;}#sk-container-id-2 div.sk-parallel-item {display: flex;flex-direction: column;z-index: 1;position: relative;background-color: white;}#sk-container-id-2 div.sk-parallel-item:first-child::after {align-self: flex-end;width: 50%;}#sk-container-id-2 div.sk-parallel-item:last-child::after {align-self: flex-start;width: 50%;}#sk-container-id-2 div.sk-parallel-item:only-child::after {width: 0;}#sk-container-id-2 div.sk-dashed-wrapped {border: 1px dashed gray;margin: 0 0.4em 0.5em 0.4em;box-sizing: border-box;padding-bottom: 0.4em;background-color: white;}#sk-container-id-2 div.sk-label label {font-family: monospace;font-weight: bold;display: inline-block;line-height: 1.2em;}#sk-container-id-2 div.sk-label-container {text-align: center;}#sk-container-id-2 div.sk-container {/* jupyter's `normalize.less` sets `[hidden] { display: none; }` but bootstrap.min.css set `[hidden] { display: none !important; }` so we also need the `!important` here to be able to override the default hidden behavior on the sphinx rendered scikit-learn.org. See: https://github.com/scikit-learn/scikit-learn/issues/21755 */display: inline-block !important;position: relative;}#sk-container-id-2 div.sk-text-repr-fallback {display: none;}</style><div id=\"sk-container-id-2\" class=\"sk-top-container\"><div class=\"sk-text-repr-fallback\"><pre>XGBClassifier(base_score=0.5, booster=&#x27;gbtree&#x27;, callbacks=None,\n",
       "              colsample_bylevel=1, colsample_bynode=1, colsample_bytree=1,\n",
       "              early_stopping_rounds=None, enable_categorical=False,\n",
       "              eval_metric=None, feature_types=None, gamma=0, gpu_id=-1,\n",
       "              grow_policy=&#x27;depthwise&#x27;, importance_type=None,\n",
       "              interaction_constraints=&#x27;&#x27;, learning_rate=0.300000012,\n",
       "              max_bin=256, max_cat_threshold=64, max_cat_to_onehot=4,\n",
       "              max_delta_step=0, max_depth=6, max_leaves=0, min_child_weight=1,\n",
       "              missing=nan, monotone_constraints=&#x27;()&#x27;, n_estimators=150,\n",
       "              n_jobs=0, num_parallel_tree=1, predictor=&#x27;auto&#x27;, random_state=42, ...)</pre><b>In a Jupyter environment, please rerun this cell to show the HTML representation or trust the notebook. <br />On GitHub, the HTML representation is unable to render, please try loading this page with nbviewer.org.</b></div><div class=\"sk-container\" hidden><div class=\"sk-item\"><div class=\"sk-estimator sk-toggleable\"><input class=\"sk-toggleable__control sk-hidden--visually\" id=\"sk-estimator-id-2\" type=\"checkbox\" checked><label for=\"sk-estimator-id-2\" class=\"sk-toggleable__label sk-toggleable__label-arrow\">XGBClassifier</label><div class=\"sk-toggleable__content\"><pre>XGBClassifier(base_score=0.5, booster=&#x27;gbtree&#x27;, callbacks=None,\n",
       "              colsample_bylevel=1, colsample_bynode=1, colsample_bytree=1,\n",
       "              early_stopping_rounds=None, enable_categorical=False,\n",
       "              eval_metric=None, feature_types=None, gamma=0, gpu_id=-1,\n",
       "              grow_policy=&#x27;depthwise&#x27;, importance_type=None,\n",
       "              interaction_constraints=&#x27;&#x27;, learning_rate=0.300000012,\n",
       "              max_bin=256, max_cat_threshold=64, max_cat_to_onehot=4,\n",
       "              max_delta_step=0, max_depth=6, max_leaves=0, min_child_weight=1,\n",
       "              missing=nan, monotone_constraints=&#x27;()&#x27;, n_estimators=150,\n",
       "              n_jobs=0, num_parallel_tree=1, predictor=&#x27;auto&#x27;, random_state=42, ...)</pre></div></div></div></div></div>"
      ],
      "text/plain": [
       "XGBClassifier(base_score=0.5, booster='gbtree', callbacks=None,\n",
       "              colsample_bylevel=1, colsample_bynode=1, colsample_bytree=1,\n",
       "              early_stopping_rounds=None, enable_categorical=False,\n",
       "              eval_metric=None, feature_types=None, gamma=0, gpu_id=-1,\n",
       "              grow_policy='depthwise', importance_type=None,\n",
       "              interaction_constraints='', learning_rate=0.300000012,\n",
       "              max_bin=256, max_cat_threshold=64, max_cat_to_onehot=4,\n",
       "              max_delta_step=0, max_depth=6, max_leaves=0, min_child_weight=1,\n",
       "              missing=nan, monotone_constraints='()', n_estimators=150,\n",
       "              n_jobs=0, num_parallel_tree=1, predictor='auto', random_state=42, ...)"
      ]
     },
     "execution_count": 116,
     "metadata": {},
     "output_type": "execute_result"
    }
   ],
   "source": [
    "# Instanciamos el modelo\n",
    "\n",
    "clf_xgb = xgb.XGBClassifier(n_estimators=150,\n",
    "                            seed=42, use_label_encoder= False)\n",
    "                            \n",
    "# Entrenamos\n",
    "clf_xgb.fit(X_train, y_train)"
   ]
  },
  {
   "cell_type": "code",
   "execution_count": 117,
   "metadata": {},
   "outputs": [
    {
     "name": "stdout",
     "output_type": "stream",
     "text": [
      "Accuracy en train: 0.7809547038327526\n",
      "Accuracy en test: 0.7640081300813009\n",
      "recall en train: 0.8495617788367423\n",
      "recall en test: 0.8349363784665579\n"
     ]
    }
   ],
   "source": [
    "# Predecimos\n",
    "\n",
    "y_train_pred = clf_xgb.predict(X_train)\n",
    "y_test_pred = clf_xgb.predict(X_test)\n",
    "\n",
    "# Evaluamos\n",
    "print('Accuracy en train:', metrics.accuracy_score(y_train, y_train_pred))\n",
    "print('Accuracy en test:', metrics.accuracy_score(y_test, y_test_pred))\n",
    "print('recall en train:', metrics.recall_score(y_train, y_train_pred))\n",
    "print('recall en test:', metrics.recall_score(y_test, y_test_pred))"
   ]
  },
  {
   "cell_type": "code",
   "execution_count": 118,
   "metadata": {},
   "outputs": [
    {
     "name": "stdout",
     "output_type": "stream",
     "text": [
      "Desempeño del modelo para el Training set:  0.8413135888501743\n",
      "Desempeño del modelo para el Test set:  0.6857723577235773\n"
     ]
    }
   ],
   "source": [
    "# Se define el clasificador\n",
    "knn = KNeighborsClassifier(3)\n",
    "\n",
    "# Se entrena el modelo\n",
    "knn.fit(X_train, y_train)\n",
    "\n",
    "# Predicciones\n",
    "y_train_pred = knn.predict(X_train)\n",
    "y_test_pred = knn.predict(X_test)\n",
    "\n",
    "# Desempeño del modelo en train, calculando la precisión (accuracy)\n",
    "knn_train_accuracy = accuracy_score(y_train, y_train_pred)\n",
    "\n",
    "# Desempeño del modelo en test, calculando la precisión (accuracy)\n",
    "knn_test_accuracy = accuracy_score(y_test, y_test_pred)\n",
    "\n",
    "print('Desempeño del modelo para el Training set: ',knn_train_accuracy)\n",
    "print('Desempeño del modelo para el Test set: ',knn_test_accuracy)"
   ]
  },
  {
   "cell_type": "code",
   "execution_count": 158,
   "metadata": {},
   "outputs": [],
   "source": [
    "# Se define el clasificador\n",
    "svm = SVC(gamma=2, C=1)\n",
    "\n",
    "# Se entrena el modelo\n",
    "svm.fit(X_train, y_train)\n",
    "\n",
    "# Predicciones\n",
    "y_train_pred = svm.predict(X_train)\n",
    "y_test_pred = svm.predict(X_test)\n",
    "\n",
    "# Desempeño del modelo en train, calculando la precisión (accuracy)\n",
    "svm_train_accuracy = accuracy_score(y_train, y_train_pred) \n",
    "\n",
    "# Desempeño del modelo en test, calculando la precisión (accuracy)\n",
    "svm_test_accuracy = accuracy_score(y_test, y_test_pred)\n",
    "\n",
    "\n",
    "print('Desempeño del modelo para el Training set: ',svm_train_accuracy)\n",
    "print('Desempeño del modelo para el Test set: ',svm_test_accuracy)"
   ]
  },
  {
   "cell_type": "code",
   "execution_count": 119,
   "metadata": {},
   "outputs": [
    {
     "name": "stdout",
     "output_type": "stream",
     "text": [
      "Desempeño del modelo para el Training set:  0.6917770034843206\n",
      "Desempeño del modelo para el Test set:  0.6902682926829268\n"
     ]
    }
   ],
   "source": [
    "# Se define el clasificador\n",
    "dt = DecisionTreeClassifier(max_depth=5)\n",
    "\n",
    "# Se entrena el modelo\n",
    "dt.fit(X_train, y_train)\n",
    "\n",
    "# Predicciones\n",
    "y_train_pred = dt.predict(X_train)\n",
    "y_test_pred = dt.predict(X_test)\n",
    "\n",
    "# Desempeño del modelo entrenado, calculando la precisión (accuracy)\n",
    "dt_train_accuracy = accuracy_score(y_train, y_train_pred)\n",
    "\n",
    "# Desempeño del modelo testeado, calculando la precisión (accuracy)\n",
    "dt_test_accuracy = accuracy_score(y_test, y_test_pred)\n",
    "\n",
    "print('Desempeño del modelo para el Training set: ',dt_train_accuracy)\n",
    "print('Desempeño del modelo para el Test set: ',dt_test_accuracy)"
   ]
  },
  {
   "cell_type": "code",
   "execution_count": 120,
   "metadata": {},
   "outputs": [
    {
     "name": "stderr",
     "output_type": "stream",
     "text": [
      "c:\\Users\\mecad\\AppData\\Local\\Programs\\Python\\Python311\\Lib\\site-packages\\xgboost\\sklearn.py:1421: UserWarning: `use_label_encoder` is deprecated in 1.7.0.\n",
      "  warnings.warn(\"`use_label_encoder` is deprecated in 1.7.0.\")\n",
      "c:\\Users\\mecad\\AppData\\Local\\Programs\\Python\\Python311\\Lib\\site-packages\\xgboost\\sklearn.py:1421: UserWarning: `use_label_encoder` is deprecated in 1.7.0.\n",
      "  warnings.warn(\"`use_label_encoder` is deprecated in 1.7.0.\")\n",
      "c:\\Users\\mecad\\AppData\\Local\\Programs\\Python\\Python311\\Lib\\site-packages\\xgboost\\sklearn.py:1421: UserWarning: `use_label_encoder` is deprecated in 1.7.0.\n",
      "  warnings.warn(\"`use_label_encoder` is deprecated in 1.7.0.\")\n"
     ]
    },
    {
     "name": "stdout",
     "output_type": "stream",
     "text": [
      "Desempeño del metamodelo para el Training set:  0.7938048780487805\n",
      "Desempeño del metamodelo para el Test set:  0.7616260162601626\n"
     ]
    }
   ],
   "source": [
    "# Se define la lista de estimadores con los 3 modelos generados\n",
    "estimator_list = [\n",
    "    ('knn',knn),\n",
    "    ('svm_rbf',clf_xgb ),\n",
    "    ('dt',dt)]\n",
    "\n",
    "# Se genera el modelo apilado (stacking)\n",
    "# Se estima con los 3 modelos generados\n",
    "# El estimador de la predicción final será una regresión logística (metamodelo).\n",
    "stack_model = StackingClassifier(\n",
    "    estimators=estimator_list, final_estimator=LogisticRegression())\n",
    "\n",
    "# Se entrena el metamodelo\n",
    "stack_model.fit(X_train, y_train)\n",
    "\n",
    "# Predicciones\n",
    "y_train_pred = stack_model.predict(X_train)\n",
    "y_test_pred = stack_model.predict(X_test)\n",
    "\n",
    "# Desempeño del metamodelo en train, calculando la precisión (accuracy)\n",
    "stack_model_train_accuracy = accuracy_score(y_train, y_train_pred)\n",
    "\n",
    "# Desempeño del metamodelo en test, calculando la precisión (accuracy)\n",
    "stack_model_test_accuracy = accuracy_score(y_test, y_test_pred)\n",
    "\n",
    "print('Desempeño del metamodelo para el Training set: ',stack_model_train_accuracy)\n",
    "print('Desempeño del metamodelo para el Test set: ',stack_model_test_accuracy)"
   ]
  },
  {
   "cell_type": "code",
   "execution_count": 122,
   "metadata": {},
   "outputs": [
    {
     "name": "stdout",
     "output_type": "stream",
     "text": [
      "Desempeño del metamodelo para el Training set:  0.8557533656615826\n",
      "Desempeño del metamodelo para el Test set:  0.8295856443719413\n"
     ]
    }
   ],
   "source": [
    "# Desempeño del metamodelo en train, calculando la precisión (accuracy)\n",
    "stack_model_train_recall = recall_score(y_train, y_train_pred)\n",
    "\n",
    "# Desempeño del metamodelo en test, calculando la precisión (recall)\n",
    "stack_model_test_recall = recall_score(y_test, y_test_pred)\n",
    "\n",
    "print('Desempeño del metamodelo para el Training set: ',stack_model_train_recall)\n",
    "print('Desempeño del metamodelo para el Test set: ',stack_model_test_recall)"
   ]
  },
  {
   "attachments": {},
   "cell_type": "markdown",
   "metadata": {},
   "source": [
    "Predicción a partir de los datos de prueba\n"
   ]
  },
  {
   "cell_type": "code",
   "execution_count": 130,
   "metadata": {},
   "outputs": [
    {
     "data": {
      "text/html": [
       "<div>\n",
       "<style scoped>\n",
       "    .dataframe tbody tr th:only-of-type {\n",
       "        vertical-align: middle;\n",
       "    }\n",
       "\n",
       "    .dataframe tbody tr th {\n",
       "        vertical-align: top;\n",
       "    }\n",
       "\n",
       "    .dataframe thead th {\n",
       "        text-align: right;\n",
       "    }\n",
       "</style>\n",
       "<table border=\"1\" class=\"dataframe\">\n",
       "  <thead>\n",
       "    <tr style=\"text-align: right;\">\n",
       "      <th></th>\n",
       "      <th>Available Extra Rooms in Hospital</th>\n",
       "      <th>Department</th>\n",
       "      <th>Ward_Facility_Code</th>\n",
       "      <th>doctor_name</th>\n",
       "      <th>Age</th>\n",
       "      <th>gender</th>\n",
       "      <th>Severity of Illness</th>\n",
       "      <th>Admission_Deposit</th>\n",
       "      <th>stay_type</th>\n",
       "    </tr>\n",
       "  </thead>\n",
       "  <tbody>\n",
       "    <tr>\n",
       "      <th>0</th>\n",
       "      <td>4</td>\n",
       "      <td>2</td>\n",
       "      <td>3</td>\n",
       "      <td>8</td>\n",
       "      <td>4</td>\n",
       "      <td>0</td>\n",
       "      <td>0</td>\n",
       "      <td>2966.408696</td>\n",
       "      <td>0</td>\n",
       "    </tr>\n",
       "    <tr>\n",
       "      <th>1</th>\n",
       "      <td>4</td>\n",
       "      <td>2</td>\n",
       "      <td>1</td>\n",
       "      <td>8</td>\n",
       "      <td>3</td>\n",
       "      <td>0</td>\n",
       "      <td>1</td>\n",
       "      <td>3554.835677</td>\n",
       "      <td>1</td>\n",
       "    </tr>\n",
       "    <tr>\n",
       "      <th>2</th>\n",
       "      <td>2</td>\n",
       "      <td>2</td>\n",
       "      <td>1</td>\n",
       "      <td>8</td>\n",
       "      <td>2</td>\n",
       "      <td>0</td>\n",
       "      <td>0</td>\n",
       "      <td>5624.733654</td>\n",
       "      <td>0</td>\n",
       "    </tr>\n",
       "    <tr>\n",
       "      <th>3</th>\n",
       "      <td>4</td>\n",
       "      <td>2</td>\n",
       "      <td>3</td>\n",
       "      <td>4</td>\n",
       "      <td>3</td>\n",
       "      <td>0</td>\n",
       "      <td>2</td>\n",
       "      <td>4814.149231</td>\n",
       "      <td>0</td>\n",
       "    </tr>\n",
       "    <tr>\n",
       "      <th>4</th>\n",
       "      <td>2</td>\n",
       "      <td>1</td>\n",
       "      <td>4</td>\n",
       "      <td>2</td>\n",
       "      <td>7</td>\n",
       "      <td>1</td>\n",
       "      <td>2</td>\n",
       "      <td>5169.269637</td>\n",
       "      <td>1</td>\n",
       "    </tr>\n",
       "  </tbody>\n",
       "</table>\n",
       "</div>"
      ],
      "text/plain": [
       "   Available Extra Rooms in Hospital  Department  Ward_Facility_Code  \\\n",
       "0                                  4           2                   3   \n",
       "1                                  4           2                   1   \n",
       "2                                  2           2                   1   \n",
       "3                                  4           2                   3   \n",
       "4                                  2           1                   4   \n",
       "\n",
       "   doctor_name  Age  gender  Severity of Illness  Admission_Deposit  stay_type  \n",
       "0            8    4       0                    0        2966.408696          0  \n",
       "1            8    3       0                    1        3554.835677          1  \n",
       "2            8    2       0                    0        5624.733654          0  \n",
       "3            4    3       0                    2        4814.149231          0  \n",
       "4            2    7       1                    2        5169.269637          1  "
      ]
     },
     "execution_count": 130,
     "metadata": {},
     "output_type": "execute_result"
    }
   ],
   "source": [
    "data.head()"
   ]
  },
  {
   "cell_type": "code",
   "execution_count": 129,
   "metadata": {},
   "outputs": [
    {
     "data": {
      "text/html": [
       "<div>\n",
       "<style scoped>\n",
       "    .dataframe tbody tr th:only-of-type {\n",
       "        vertical-align: middle;\n",
       "    }\n",
       "\n",
       "    .dataframe tbody tr th {\n",
       "        vertical-align: top;\n",
       "    }\n",
       "\n",
       "    .dataframe thead th {\n",
       "        text-align: right;\n",
       "    }\n",
       "</style>\n",
       "<table border=\"1\" class=\"dataframe\">\n",
       "  <thead>\n",
       "    <tr style=\"text-align: right;\">\n",
       "      <th></th>\n",
       "      <th>Available Extra Rooms in Hospital</th>\n",
       "      <th>Department</th>\n",
       "      <th>Ward_Facility_Code</th>\n",
       "      <th>doctor_name</th>\n",
       "      <th>Age</th>\n",
       "      <th>gender</th>\n",
       "      <th>Severity of Illness</th>\n",
       "      <th>Admission_Deposit</th>\n",
       "    </tr>\n",
       "  </thead>\n",
       "  <tbody>\n",
       "    <tr>\n",
       "      <th>0</th>\n",
       "      <td>3</td>\n",
       "      <td>2</td>\n",
       "      <td>5</td>\n",
       "      <td>4</td>\n",
       "      <td>2</td>\n",
       "      <td>0</td>\n",
       "      <td>2</td>\n",
       "      <td>4749.640225</td>\n",
       "    </tr>\n",
       "    <tr>\n",
       "      <th>1</th>\n",
       "      <td>2</td>\n",
       "      <td>0</td>\n",
       "      <td>4</td>\n",
       "      <td>1</td>\n",
       "      <td>5</td>\n",
       "      <td>0</td>\n",
       "      <td>2</td>\n",
       "      <td>4122.261324</td>\n",
       "    </tr>\n",
       "    <tr>\n",
       "      <th>2</th>\n",
       "      <td>2</td>\n",
       "      <td>3</td>\n",
       "      <td>4</td>\n",
       "      <td>1</td>\n",
       "      <td>5</td>\n",
       "      <td>2</td>\n",
       "      <td>2</td>\n",
       "      <td>5459.067882</td>\n",
       "    </tr>\n",
       "    <tr>\n",
       "      <th>3</th>\n",
       "      <td>2</td>\n",
       "      <td>2</td>\n",
       "      <td>5</td>\n",
       "      <td>4</td>\n",
       "      <td>2</td>\n",
       "      <td>0</td>\n",
       "      <td>2</td>\n",
       "      <td>3987.033318</td>\n",
       "    </tr>\n",
       "    <tr>\n",
       "      <th>4</th>\n",
       "      <td>2</td>\n",
       "      <td>1</td>\n",
       "      <td>0</td>\n",
       "      <td>1</td>\n",
       "      <td>5</td>\n",
       "      <td>0</td>\n",
       "      <td>0</td>\n",
       "      <td>4770.789695</td>\n",
       "    </tr>\n",
       "  </tbody>\n",
       "</table>\n",
       "</div>"
      ],
      "text/plain": [
       "   Available Extra Rooms in Hospital  Department  Ward_Facility_Code  \\\n",
       "0                                  3           2                   5   \n",
       "1                                  2           0                   4   \n",
       "2                                  2           3                   4   \n",
       "3                                  2           2                   5   \n",
       "4                                  2           1                   0   \n",
       "\n",
       "   doctor_name  Age  gender  Severity of Illness  Admission_Deposit  \n",
       "0            4    2       0                    2        4749.640225  \n",
       "1            1    5       0                    2        4122.261324  \n",
       "2            1    5       2                    2        5459.067882  \n",
       "3            4    2       0                    2        3987.033318  \n",
       "4            1    5       0                    0        4770.789695  "
      ]
     },
     "execution_count": 129,
     "metadata": {},
     "output_type": "execute_result"
    }
   ],
   "source": [
    "prueba.head()"
   ]
  },
  {
   "cell_type": "code",
<<<<<<< Updated upstream
   "execution_count": 128,
=======
   "execution_count": 243,
>>>>>>> Stashed changes
   "metadata": {},
   "outputs": [
    {
     "data": {
      "text/html": [
       "<div>\n",
       "<style scoped>\n",
       "    .dataframe tbody tr th:only-of-type {\n",
       "        vertical-align: middle;\n",
       "    }\n",
       "\n",
       "    .dataframe tbody tr th {\n",
       "        vertical-align: top;\n",
       "    }\n",
       "\n",
       "    .dataframe thead th {\n",
       "        text-align: right;\n",
       "    }\n",
       "</style>\n",
       "<table border=\"1\" class=\"dataframe\">\n",
       "  <thead>\n",
       "    <tr style=\"text-align: right;\">\n",
       "      <th></th>\n",
       "      <th>pred</th>\n",
       "    </tr>\n",
       "  </thead>\n",
       "  <tbody>\n",
       "    <tr>\n",
       "      <th>0</th>\n",
       "      <td>0</td>\n",
       "    </tr>\n",
       "    <tr>\n",
       "      <th>1</th>\n",
       "      <td>1</td>\n",
       "    </tr>\n",
       "    <tr>\n",
       "      <th>2</th>\n",
       "      <td>1</td>\n",
       "    </tr>\n",
       "    <tr>\n",
       "      <th>3</th>\n",
       "      <td>1</td>\n",
       "    </tr>\n",
       "    <tr>\n",
       "      <th>4</th>\n",
       "      <td>1</td>\n",
       "    </tr>\n",
       "  </tbody>\n",
       "</table>\n",
       "</div>"
      ],
      "text/plain": [
       "   pred\n",
       "0     0\n",
       "1     1\n",
       "2     1\n",
       "3     1\n",
       "4     1"
      ]
     },
<<<<<<< Updated upstream
     "execution_count": 128,
=======
     "execution_count": 243,
>>>>>>> Stashed changes
     "metadata": {},
     "output_type": "execute_result"
    }
   ],
   "source": [
    "stay_predicted = pd.DataFrame()\n",
    "stay_predicted['pred'] = stack_model.predict(prueba)\n",
    "stay_predicted.head()"
   ]
  },
  {
   "attachments": {},
   "cell_type": "markdown",
   "metadata": {},
   "source": [
    "Extorpamos el resultado a un csv "
   ]
  },
  {
   "cell_type": "code",
<<<<<<< Updated upstream
   "execution_count": 131,
=======
   "execution_count": 244,
>>>>>>> Stashed changes
   "metadata": {},
   "outputs": [],
   "source": [
    "stay_predicted.to_csv('mecadme .csv', index=False)"
   ]
  }
 ],
 "metadata": {
  "kernelspec": {
   "display_name": "Python 3",
   "language": "python",
   "name": "python3"
  },
  "language_info": {
   "codemirror_mode": {
    "name": "ipython",
    "version": 3
   },
   "file_extension": ".py",
   "mimetype": "text/x-python",
   "name": "python",
   "nbconvert_exporter": "python",
   "pygments_lexer": "ipython3",
   "version": "3.11.0"
  },
  "orig_nbformat": 4,
  "vscode": {
   "interpreter": {
    "hash": "eeef716df324f92efe9fecaf4ba3239fb4f23aae1cc75bec5dd1f7ee705df4b2"
   }
  }
 },
 "nbformat": 4,
 "nbformat_minor": 2
}
